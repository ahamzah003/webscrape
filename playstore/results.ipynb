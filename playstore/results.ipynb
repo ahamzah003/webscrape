{
 "cells": [
  {
   "cell_type": "code",
   "execution_count": null,
   "id": "6dbb86b2",
   "metadata": {},
   "outputs": [],
   "source": []
  },
  {
   "cell_type": "code",
   "execution_count": 1,
   "id": "efbbaf15",
   "metadata": {
    "slideshow": {
     "slide_type": "skip"
    }
   },
   "outputs": [],
   "source": [
    "import pandas as pd\n",
    "import numpy as np\n",
    "import matplotlib.pyplot as plt\n",
    "import seaborn as sb\n",
    "\n",
    "%matplotlib inline"
   ]
  },
  {
   "cell_type": "code",
   "execution_count": null,
   "id": "2265e2ad",
   "metadata": {},
   "outputs": [],
   "source": []
  },
  {
   "cell_type": "code",
   "execution_count": 2,
   "id": "647e7823",
   "metadata": {
    "slideshow": {
     "slide_type": "skip"
    }
   },
   "outputs": [],
   "source": [
    "df = pd.read_csv('learnhtmlpro-clean.csv', index_col='review_id')"
   ]
  },
  {
   "cell_type": "code",
   "execution_count": 3,
   "id": "ef1545bd",
   "metadata": {
    "slideshow": {
     "slide_type": "skip"
    }
   },
   "outputs": [
    {
     "data": {
      "text/html": [
       "<div>\n",
       "<style scoped>\n",
       "    .dataframe tbody tr th:only-of-type {\n",
       "        vertical-align: middle;\n",
       "    }\n",
       "\n",
       "    .dataframe tbody tr th {\n",
       "        vertical-align: top;\n",
       "    }\n",
       "\n",
       "    .dataframe thead th {\n",
       "        text-align: right;\n",
       "    }\n",
       "</style>\n",
       "<table border=\"1\" class=\"dataframe\">\n",
       "  <thead>\n",
       "    <tr style=\"text-align: right;\">\n",
       "      <th></th>\n",
       "      <th>username</th>\n",
       "      <th>star_rating</th>\n",
       "      <th>date</th>\n",
       "      <th>review_content</th>\n",
       "      <th>thumbsup</th>\n",
       "      <th>device</th>\n",
       "      <th>app_version</th>\n",
       "      <th>sentiment_label</th>\n",
       "      <th>sentiment_score</th>\n",
       "    </tr>\n",
       "    <tr>\n",
       "      <th>review_id</th>\n",
       "      <th></th>\n",
       "      <th></th>\n",
       "      <th></th>\n",
       "      <th></th>\n",
       "      <th></th>\n",
       "      <th></th>\n",
       "      <th></th>\n",
       "      <th></th>\n",
       "      <th></th>\n",
       "    </tr>\n",
       "  </thead>\n",
       "  <tbody>\n",
       "    <tr>\n",
       "      <th>37ced158-8ab4-47d7-837f-a0aee213fd8c</th>\n",
       "      <td>Jereld Camphor</td>\n",
       "      <td>5</td>\n",
       "      <td>2020-08-23</td>\n",
       "      <td>It is an excellent app. It provides a practica...</td>\n",
       "      <td>79.0</td>\n",
       "      <td>Phone</td>\n",
       "      <td>1.3.4</td>\n",
       "      <td>positive</td>\n",
       "      <td>0.998888</td>\n",
       "    </tr>\n",
       "    <tr>\n",
       "      <th>1c03e4e9-c29a-4bdb-aa0e-1360b63842c7</th>\n",
       "      <td>Harrison H</td>\n",
       "      <td>5</td>\n",
       "      <td>2020-10-30</td>\n",
       "      <td>So far I like the app a lot. It may not look a...</td>\n",
       "      <td>130.0</td>\n",
       "      <td>Phone</td>\n",
       "      <td>1.3.7</td>\n",
       "      <td>positive</td>\n",
       "      <td>0.998929</td>\n",
       "    </tr>\n",
       "    <tr>\n",
       "      <th>27722653-2923-409c-844a-73cfad4e6271</th>\n",
       "      <td>Julio Lh</td>\n",
       "      <td>4</td>\n",
       "      <td>2024-12-06</td>\n",
       "      <td>A great resource for learning HTML or brushing...</td>\n",
       "      <td>NaN</td>\n",
       "      <td>Phone</td>\n",
       "      <td>1.4.4</td>\n",
       "      <td>positive</td>\n",
       "      <td>0.998741</td>\n",
       "    </tr>\n",
       "    <tr>\n",
       "      <th>f1fc09c7-b3c1-46fa-833b-ba07d2f67eb6</th>\n",
       "      <td>Cecile Perret</td>\n",
       "      <td>5</td>\n",
       "      <td>2020-10-19</td>\n",
       "      <td>I really like this app and its partner apps (c...</td>\n",
       "      <td>40.0</td>\n",
       "      <td>Phone</td>\n",
       "      <td>1.3.7</td>\n",
       "      <td>positive</td>\n",
       "      <td>0.998935</td>\n",
       "    </tr>\n",
       "    <tr>\n",
       "      <th>c06a6a0b-0a83-427c-bf67-6b981a4b8589</th>\n",
       "      <td>Cathy Furman</td>\n",
       "      <td>4</td>\n",
       "      <td>2023-02-19</td>\n",
       "      <td>App works well, some bugs here and there with ...</td>\n",
       "      <td>17.0</td>\n",
       "      <td>Phone</td>\n",
       "      <td>1.4.4</td>\n",
       "      <td>positive</td>\n",
       "      <td>0.998915</td>\n",
       "    </tr>\n",
       "  </tbody>\n",
       "</table>\n",
       "</div>"
      ],
      "text/plain": [
       "                                            username  star_rating        date  \\\n",
       "review_id                                                                       \n",
       "37ced158-8ab4-47d7-837f-a0aee213fd8c  Jereld Camphor            5  2020-08-23   \n",
       "1c03e4e9-c29a-4bdb-aa0e-1360b63842c7      Harrison H            5  2020-10-30   \n",
       "27722653-2923-409c-844a-73cfad4e6271        Julio Lh            4  2024-12-06   \n",
       "f1fc09c7-b3c1-46fa-833b-ba07d2f67eb6   Cecile Perret            5  2020-10-19   \n",
       "c06a6a0b-0a83-427c-bf67-6b981a4b8589    Cathy Furman            4  2023-02-19   \n",
       "\n",
       "                                                                         review_content  \\\n",
       "review_id                                                                                 \n",
       "37ced158-8ab4-47d7-837f-a0aee213fd8c  It is an excellent app. It provides a practica...   \n",
       "1c03e4e9-c29a-4bdb-aa0e-1360b63842c7  So far I like the app a lot. It may not look a...   \n",
       "27722653-2923-409c-844a-73cfad4e6271  A great resource for learning HTML or brushing...   \n",
       "f1fc09c7-b3c1-46fa-833b-ba07d2f67eb6  I really like this app and its partner apps (c...   \n",
       "c06a6a0b-0a83-427c-bf67-6b981a4b8589  App works well, some bugs here and there with ...   \n",
       "\n",
       "                                      thumbsup device app_version  \\\n",
       "review_id                                                           \n",
       "37ced158-8ab4-47d7-837f-a0aee213fd8c      79.0  Phone       1.3.4   \n",
       "1c03e4e9-c29a-4bdb-aa0e-1360b63842c7     130.0  Phone       1.3.7   \n",
       "27722653-2923-409c-844a-73cfad4e6271       NaN  Phone       1.4.4   \n",
       "f1fc09c7-b3c1-46fa-833b-ba07d2f67eb6      40.0  Phone       1.3.7   \n",
       "c06a6a0b-0a83-427c-bf67-6b981a4b8589      17.0  Phone       1.4.4   \n",
       "\n",
       "                                     sentiment_label  sentiment_score  \n",
       "review_id                                                              \n",
       "37ced158-8ab4-47d7-837f-a0aee213fd8c        positive         0.998888  \n",
       "1c03e4e9-c29a-4bdb-aa0e-1360b63842c7        positive         0.998929  \n",
       "27722653-2923-409c-844a-73cfad4e6271        positive         0.998741  \n",
       "f1fc09c7-b3c1-46fa-833b-ba07d2f67eb6        positive         0.998935  \n",
       "c06a6a0b-0a83-427c-bf67-6b981a4b8589        positive         0.998915  "
      ]
     },
     "execution_count": 3,
     "metadata": {},
     "output_type": "execute_result"
    }
   ],
   "source": [
    "df.head(5)"
   ]
  },
  {
   "cell_type": "code",
   "execution_count": null,
   "id": "65351b48",
   "metadata": {},
   "outputs": [],
   "source": []
  },
  {
   "cell_type": "code",
   "execution_count": 8,
   "id": "ff40bbb8",
   "metadata": {
    "slideshow": {
     "slide_type": "skip"
    }
   },
   "outputs": [],
   "source": [
    "# change datatype to string for each of the columns\n",
    "df['app_version'] = df['app_version'].astype('str')\n",
    "df['star_rating'] = df['star_rating'].astype('str')"
   ]
  },
  {
   "cell_type": "code",
   "execution_count": 16,
   "id": "113d6fb9",
   "metadata": {},
   "outputs": [
    {
     "data": {
      "image/png": "[encoded data removed]",
      "text/plain": [
       "<Figure size 600x400 with 1 Axes>"
      ]
     },
     "metadata": {},
     "output_type": "display_data"
    }
   ],
   "source": [
    "# set figsize\n",
    "plt.figure(figsize=(6,4))\n",
    "\n",
    "# plot bar chart\n",
    "x = df['star_rating'].unique()\n",
    "y = df['star_rating'].value_counts()\n",
    "plt.bar(x,y, color='#006400')\n",
    "\n",
    "# get current axis\n",
    "ax = plt.gca()\n",
    "\n",
    "# remove the top and right border lines \n",
    "ax.spines['top'].set_visible(False)\n",
    "ax.spines['right'].set_visible(False);\n",
    "\n",
    "# visual formatting\n",
    "plt.xlabel('Star Ratings')\n",
    "plt.ylabel('Count of Reviews')\n",
    "plt.title('Total Count of Reviews by their Star Ratings')\n",
    "\n",
    "# show visual\n",
    "plt.show()"
   ]
  },
  {
   "cell_type": "code",
   "execution_count": null,
   "id": "21baa8f7",
   "metadata": {},
   "outputs": [],
   "source": []
  },
  {
   "cell_type": "code",
   "execution_count": 19,
   "id": "a14e9332",
   "metadata": {},
   "outputs": [
    {
     "data": {
      "image/png": "[encoded data removed]",
      "text/plain": [
       "<Figure size 1500x800 with 1 Axes>"
      ]
     },
     "metadata": {},
     "output_type": "display_data"
    }
   ],
   "source": [
    "# set figsize\n",
    "plt.figure(figsize=(15,8))\n",
    "\n",
    "# bar chart of the app versions\n",
    "x = df[df['app_version'] != 'nan']['app_version'].unique()\n",
    "y = df[df['app_version'] != 'nan']['app_version'].value_counts()\n",
    "plt.bar(x,y, color='#4169E1')\n",
    "\n",
    "# get current axis\n",
    "ax = plt.gca()\n",
    "\n",
    "# remove the top and right border lines \n",
    "ax.spines['top'].set_visible(False)\n",
    "ax.spines['right'].set_visible(False);\n",
    "\n",
    "# visual formatting\n",
    "plt.xlabel('App Version')\n",
    "plt.ylabel('Count of Reviews')\n",
    "plt.title('Total Count of Reviews per User App Version')\n",
    "\n",
    "# show visual\n",
    "plt.show()"
   ]
  },
  {
   "cell_type": "code",
   "execution_count": null,
   "id": "812d7ab1",
   "metadata": {},
   "outputs": [],
   "source": []
  },
  {
   "cell_type": "code",
   "execution_count": 25,
   "id": "3f8a805c",
   "metadata": {},
   "outputs": [],
   "source": [
    "# set to `datetime` format\n",
    "df['date'] = pd.to_datetime(df['date'])\n",
    "# extract `year` column from the `date` column\n",
    "df['year'] = df['date'].dt.year"
   ]
  },
  {
   "cell_type": "code",
   "execution_count": 29,
   "id": "4571ced5",
   "metadata": {},
   "outputs": [
    {
     "data": {
      "image/png": "[encoded data removed]",
      "text/plain": [
       "<Figure size 640x480 with 1 Axes>"
      ]
     },
     "metadata": {},
     "output_type": "display_data"
    }
   ],
   "source": [
    "# set the order index for the bar chart\n",
    "ordering = df['year'].value_counts(ascending=False).index\n",
    "# plot the review counts per year\n",
    "sb.countplot(data=df, x='year', color = sb.color_palette()[1], order=ordering)\n",
    "\n",
    "# get current axis\n",
    "ax = plt.gca()\n",
    "\n",
    "# remove the top and right border lines \n",
    "ax.spines['top'].set_visible(False)\n",
    "ax.spines['right'].set_visible(False);\n",
    "\n",
    "# visual formatting\n",
    "plt.xlabel('Year')\n",
    "plt.ylabel('Count of Reviews')\n",
    "plt.title('Total Count of Reviews per Year')\n",
    "\n",
    "# show visuals\n",
    "plt.show()"
   ]
  },
  {
   "cell_type": "code",
   "execution_count": null,
   "id": "96552f07",
   "metadata": {},
   "outputs": [],
   "source": []
  },
  {
   "cell_type": "code",
   "execution_count": null,
   "id": "c1ed2e62",
   "metadata": {},
   "outputs": [],
   "source": [
    "# set figsize\n",
    "plt.figure(figsize=[20,5])\n",
    "# a pie chart of the devices in the first sub-plot\n",
    "plt.subplot(1,2,1)\n",
    "df_clean['device'].value_counts().plot(kind='pie')\n",
    "# a pie chart of sentiment labels in the second sub-plot\n",
    "plt.subplot(1,2,2)\n",
    "df_clean['sentiment_label'].value_counts().plot(kind='pie')\n",
    "plt.show()"
   ]
  },
  {
   "cell_type": "code",
   "execution_count": null,
   "id": "2d14a1b9",
   "metadata": {},
   "outputs": [],
   "source": []
  },
  {
   "cell_type": "code",
   "execution_count": null,
   "id": "c989d917",
   "metadata": {},
   "outputs": [],
   "source": [
    "# plot the distribution of the count of postive and negative reviews per year\n",
    "sb.countplot(data=df_clean, x='year',hue= 'sentiment_label',color = sb.color_palette()[2])\n",
    "plt.show()"
   ]
  },
  {
   "cell_type": "code",
   "execution_count": null,
   "id": "2eb5f5c2",
   "metadata": {},
   "outputs": [],
   "source": []
  },
  {
   "cell_type": "code",
   "execution_count": null,
   "id": "b076ad03",
   "metadata": {},
   "outputs": [],
   "source": []
  },
  {
   "cell_type": "code",
   "execution_count": null,
   "id": "578d1925",
   "metadata": {},
   "outputs": [],
   "source": []
  },
  {
   "cell_type": "code",
   "execution_count": null,
   "id": "2d272b7e",
   "metadata": {},
   "outputs": [],
   "source": []
  }
 ],
 "metadata": {
  "celltoolbar": "Slideshow",
  "kernelspec": {
   "display_name": "Python 3 (ipykernel)",
   "language": "python",
   "name": "python3"
  },
  "language_info": {
   "codemirror_mode": {
    "name": "ipython",
    "version": 3
   },
   "file_extension": ".py",
   "mimetype": "text/x-python",
   "name": "python",
   "nbconvert_exporter": "python",
   "pygments_lexer": "ipython3",
   "version": "3.9.13"
  }
 },
 "nbformat": 4,
 "nbformat_minor": 5
}
