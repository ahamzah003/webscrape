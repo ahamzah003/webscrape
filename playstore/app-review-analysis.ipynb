{
 "cells": [
  {
   "cell_type": "markdown",
   "id": "949b5e6a",
   "metadata": {},
   "source": [
    "#### Imports"
   ]
  },
  {
   "cell_type": "code",
   "execution_count": 1,
   "id": "3e59d009",
   "metadata": {},
   "outputs": [],
   "source": [
    "import pandas as pd\n",
    "import numpy as np\n",
    "import matplotlib.pyplot as plt\n",
    "import seaborn as sb\n",
    "\n",
    "%matplotlib inline"
   ]
  },
  {
   "cell_type": "markdown",
   "id": "3ce239ca",
   "metadata": {},
   "source": [
    "### Combine datasets "
   ]
  },
  {
   "cell_type": "code",
   "execution_count": 2,
   "id": "06ca11d9",
   "metadata": {},
   "outputs": [],
   "source": [
    "# gather all csv files\n",
    "df1 = pd.read_csv('learn-html-pro.csv')\n",
    "df2 = pd.read_csv('learnhtmlpro-sa.csv')"
   ]
  },
  {
   "cell_type": "code",
   "execution_count": 3,
   "id": "fcfd21bc",
   "metadata": {},
   "outputs": [
    {
     "data": {
      "text/html": [
       "<div>\n",
       "<style scoped>\n",
       "    .dataframe tbody tr th:only-of-type {\n",
       "        vertical-align: middle;\n",
       "    }\n",
       "\n",
       "    .dataframe tbody tr th {\n",
       "        vertical-align: top;\n",
       "    }\n",
       "\n",
       "    .dataframe thead th {\n",
       "        text-align: right;\n",
       "    }\n",
       "</style>\n",
       "<table border=\"1\" class=\"dataframe\">\n",
       "  <thead>\n",
       "    <tr style=\"text-align: right;\">\n",
       "      <th></th>\n",
       "      <th>name</th>\n",
       "      <th>star_rating</th>\n",
       "      <th>date</th>\n",
       "      <th>review</th>\n",
       "      <th>people</th>\n",
       "      <th>device</th>\n",
       "    </tr>\n",
       "  </thead>\n",
       "  <tbody>\n",
       "    <tr>\n",
       "      <th>0</th>\n",
       "      <td>jereld camphor</td>\n",
       "      <td>5</td>\n",
       "      <td>August 23, 2020</td>\n",
       "      <td>It is an excellent app. It provides a practica...</td>\n",
       "      <td>79</td>\n",
       "      <td>Phone</td>\n",
       "    </tr>\n",
       "    <tr>\n",
       "      <th>1</th>\n",
       "      <td>Harrison H</td>\n",
       "      <td>5</td>\n",
       "      <td>October 30, 2020</td>\n",
       "      <td>So far I like the app a lot. It may not look a...</td>\n",
       "      <td>130</td>\n",
       "      <td>Phone</td>\n",
       "    </tr>\n",
       "    <tr>\n",
       "      <th>2</th>\n",
       "      <td>Julio LH</td>\n",
       "      <td>4</td>\n",
       "      <td>December 6, 2024</td>\n",
       "      <td>A great resource for learning HTML or brushing...</td>\n",
       "      <td>None</td>\n",
       "      <td>Phone</td>\n",
       "    </tr>\n",
       "    <tr>\n",
       "      <th>3</th>\n",
       "      <td>Cecile Perret</td>\n",
       "      <td>5</td>\n",
       "      <td>October 19, 2020</td>\n",
       "      <td>I really like this app and its partner apps (c...</td>\n",
       "      <td>40</td>\n",
       "      <td>Phone</td>\n",
       "    </tr>\n",
       "    <tr>\n",
       "      <th>4</th>\n",
       "      <td>Cathy Furman</td>\n",
       "      <td>4</td>\n",
       "      <td>February 19, 2023</td>\n",
       "      <td>App works well, some bugs here and there with ...</td>\n",
       "      <td>17</td>\n",
       "      <td>Phone</td>\n",
       "    </tr>\n",
       "    <tr>\n",
       "      <th>5</th>\n",
       "      <td>Daniel Dolan</td>\n",
       "      <td>5</td>\n",
       "      <td>May 20, 2020</td>\n",
       "      <td>Very easy and simple way of learning HTML5. Fa...</td>\n",
       "      <td>18</td>\n",
       "      <td>Phone</td>\n",
       "    </tr>\n",
       "    <tr>\n",
       "      <th>6</th>\n",
       "      <td>Diego Schelling</td>\n",
       "      <td>5</td>\n",
       "      <td>December 31, 2020</td>\n",
       "      <td>Great experience with this app. I have pretty ...</td>\n",
       "      <td>29</td>\n",
       "      <td>Phone</td>\n",
       "    </tr>\n",
       "    <tr>\n",
       "      <th>7</th>\n",
       "      <td>A Google user</td>\n",
       "      <td>5</td>\n",
       "      <td>April 27, 2020</td>\n",
       "      <td>So far this app has been excellent in teaching...</td>\n",
       "      <td>2</td>\n",
       "      <td>Phone</td>\n",
       "    </tr>\n",
       "    <tr>\n",
       "      <th>8</th>\n",
       "      <td>Sirena E</td>\n",
       "      <td>5</td>\n",
       "      <td>November 24, 2022</td>\n",
       "      <td>Great app and I learned even more about html t...</td>\n",
       "      <td>2</td>\n",
       "      <td>Phone</td>\n",
       "    </tr>\n",
       "    <tr>\n",
       "      <th>9</th>\n",
       "      <td>Augusto Pietroski</td>\n",
       "      <td>5</td>\n",
       "      <td>May 6, 2020</td>\n",
       "      <td>The most addictive programming learning app of...</td>\n",
       "      <td>9</td>\n",
       "      <td>Phone</td>\n",
       "    </tr>\n",
       "  </tbody>\n",
       "</table>\n",
       "</div>"
      ],
      "text/plain": [
       "                name  star_rating               date  \\\n",
       "0     jereld camphor            5    August 23, 2020   \n",
       "1         Harrison H            5   October 30, 2020   \n",
       "2           Julio LH            4   December 6, 2024   \n",
       "3      Cecile Perret            5   October 19, 2020   \n",
       "4       Cathy Furman            4  February 19, 2023   \n",
       "5       Daniel Dolan            5       May 20, 2020   \n",
       "6    Diego Schelling            5  December 31, 2020   \n",
       "7      A Google user            5     April 27, 2020   \n",
       "8           Sirena E            5  November 24, 2022   \n",
       "9  Augusto Pietroski            5        May 6, 2020   \n",
       "\n",
       "                                              review people device  \n",
       "0  It is an excellent app. It provides a practica...     79  Phone  \n",
       "1  So far I like the app a lot. It may not look a...    130  Phone  \n",
       "2  A great resource for learning HTML or brushing...   None  Phone  \n",
       "3  I really like this app and its partner apps (c...     40  Phone  \n",
       "4  App works well, some bugs here and there with ...     17  Phone  \n",
       "5  Very easy and simple way of learning HTML5. Fa...     18  Phone  \n",
       "6  Great experience with this app. I have pretty ...     29  Phone  \n",
       "7  So far this app has been excellent in teaching...      2  Phone  \n",
       "8  Great app and I learned even more about html t...      2  Phone  \n",
       "9  The most addictive programming learning app of...      9  Phone  "
      ]
     },
     "execution_count": 3,
     "metadata": {},
     "output_type": "execute_result"
    }
   ],
   "source": [
    "df1.head(10)"
   ]
  },
  {
   "cell_type": "code",
   "execution_count": 4,
   "id": "21894ca6",
   "metadata": {
    "scrolled": true
   },
   "outputs": [
    {
     "data": {
      "text/html": [
       "<div>\n",
       "<style scoped>\n",
       "    .dataframe tbody tr th:only-of-type {\n",
       "        vertical-align: middle;\n",
       "    }\n",
       "\n",
       "    .dataframe tbody tr th {\n",
       "        vertical-align: top;\n",
       "    }\n",
       "\n",
       "    .dataframe thead th {\n",
       "        text-align: right;\n",
       "    }\n",
       "</style>\n",
       "<table border=\"1\" class=\"dataframe\">\n",
       "  <thead>\n",
       "    <tr style=\"text-align: right;\">\n",
       "      <th></th>\n",
       "      <th>reviewId</th>\n",
       "      <th>userName</th>\n",
       "      <th>userImage</th>\n",
       "      <th>content</th>\n",
       "      <th>score</th>\n",
       "      <th>thumbsUpCount</th>\n",
       "      <th>reviewCreatedVersion</th>\n",
       "      <th>at</th>\n",
       "      <th>replyContent</th>\n",
       "      <th>repliedAt</th>\n",
       "      <th>appVersion</th>\n",
       "      <th>sentiment_result</th>\n",
       "      <th>sentiment_label</th>\n",
       "      <th>sentiment_score</th>\n",
       "    </tr>\n",
       "  </thead>\n",
       "  <tbody>\n",
       "    <tr>\n",
       "      <th>0</th>\n",
       "      <td>27722653-2923-409c-844a-73cfad4e6271</td>\n",
       "      <td>Julio LH</td>\n",
       "      <td>https://play-lh.googleusercontent.com/a-/ALV-U...</td>\n",
       "      <td>A great resource for learning HTML or brushing...</td>\n",
       "      <td>4</td>\n",
       "      <td>0</td>\n",
       "      <td>1.4.4</td>\n",
       "      <td>2024-12-06 01:34:09</td>\n",
       "      <td>NaN</td>\n",
       "      <td>NaN</td>\n",
       "      <td>1.4.4</td>\n",
       "      <td>[{'label': 'POSITIVE', 'score': 0.998741209506...</td>\n",
       "      <td>POSITIVE</td>\n",
       "      <td>0.998741</td>\n",
       "    </tr>\n",
       "    <tr>\n",
       "      <th>1</th>\n",
       "      <td>2660ea1f-4e38-47a1-bfbd-ba124a44bd4b</td>\n",
       "      <td>Dylan Smith</td>\n",
       "      <td>https://play-lh.googleusercontent.com/a/ACg8oc...</td>\n",
       "      <td>It taught me tables as I casually browsed the ...</td>\n",
       "      <td>5</td>\n",
       "      <td>0</td>\n",
       "      <td>NaN</td>\n",
       "      <td>2024-07-26 13:27:31</td>\n",
       "      <td>NaN</td>\n",
       "      <td>NaN</td>\n",
       "      <td>NaN</td>\n",
       "      <td>[{'label': 'POSITIVE', 'score': 0.998786866664...</td>\n",
       "      <td>POSITIVE</td>\n",
       "      <td>0.998787</td>\n",
       "    </tr>\n",
       "    <tr>\n",
       "      <th>2</th>\n",
       "      <td>e0b8e27d-4d3c-422a-9aa0-0de69a089db2</td>\n",
       "      <td>Usama Abubakar</td>\n",
       "      <td>https://play-lh.googleusercontent.com/a-/ALV-U...</td>\n",
       "      <td>Thank you 🙏</td>\n",
       "      <td>5</td>\n",
       "      <td>0</td>\n",
       "      <td>1.4.4</td>\n",
       "      <td>2024-07-23 10:10:38</td>\n",
       "      <td>NaN</td>\n",
       "      <td>NaN</td>\n",
       "      <td>1.4.4</td>\n",
       "      <td>[{'label': 'POSITIVE', 'score': 0.998811364173...</td>\n",
       "      <td>POSITIVE</td>\n",
       "      <td>0.998811</td>\n",
       "    </tr>\n",
       "    <tr>\n",
       "      <th>3</th>\n",
       "      <td>35535390-f184-4a37-b615-ec012dd81917</td>\n",
       "      <td>Gareth Andrew Wood</td>\n",
       "      <td>https://play-lh.googleusercontent.com/a/ACg8oc...</td>\n",
       "      <td>This is excellent, really love it. Clear and e...</td>\n",
       "      <td>5</td>\n",
       "      <td>0</td>\n",
       "      <td>1.4.4</td>\n",
       "      <td>2024-05-21 13:27:44</td>\n",
       "      <td>NaN</td>\n",
       "      <td>NaN</td>\n",
       "      <td>1.4.4</td>\n",
       "      <td>[{'label': 'POSITIVE', 'score': 0.998936235904...</td>\n",
       "      <td>POSITIVE</td>\n",
       "      <td>0.998936</td>\n",
       "    </tr>\n",
       "    <tr>\n",
       "      <th>4</th>\n",
       "      <td>62832b2d-0758-4aed-be67-9982503cd085</td>\n",
       "      <td>Han Sak</td>\n",
       "      <td>https://play-lh.googleusercontent.com/a-/ALV-U...</td>\n",
       "      <td>Good 👍👍👍</td>\n",
       "      <td>5</td>\n",
       "      <td>0</td>\n",
       "      <td>1.4.4</td>\n",
       "      <td>2024-02-01 17:23:39</td>\n",
       "      <td>NaN</td>\n",
       "      <td>NaN</td>\n",
       "      <td>1.4.4</td>\n",
       "      <td>[{'label': 'POSITIVE', 'score': 0.998515427112...</td>\n",
       "      <td>POSITIVE</td>\n",
       "      <td>0.998515</td>\n",
       "    </tr>\n",
       "  </tbody>\n",
       "</table>\n",
       "</div>"
      ],
      "text/plain": [
       "                               reviewId            userName  \\\n",
       "0  27722653-2923-409c-844a-73cfad4e6271            Julio LH   \n",
       "1  2660ea1f-4e38-47a1-bfbd-ba124a44bd4b         Dylan Smith   \n",
       "2  e0b8e27d-4d3c-422a-9aa0-0de69a089db2      Usama Abubakar   \n",
       "3  35535390-f184-4a37-b615-ec012dd81917  Gareth Andrew Wood   \n",
       "4  62832b2d-0758-4aed-be67-9982503cd085             Han Sak   \n",
       "\n",
       "                                           userImage  \\\n",
       "0  https://play-lh.googleusercontent.com/a-/ALV-U...   \n",
       "1  https://play-lh.googleusercontent.com/a/ACg8oc...   \n",
       "2  https://play-lh.googleusercontent.com/a-/ALV-U...   \n",
       "3  https://play-lh.googleusercontent.com/a/ACg8oc...   \n",
       "4  https://play-lh.googleusercontent.com/a-/ALV-U...   \n",
       "\n",
       "                                             content  score  thumbsUpCount  \\\n",
       "0  A great resource for learning HTML or brushing...      4              0   \n",
       "1  It taught me tables as I casually browsed the ...      5              0   \n",
       "2                                        Thank you 🙏      5              0   \n",
       "3  This is excellent, really love it. Clear and e...      5              0   \n",
       "4                                           Good 👍👍👍      5              0   \n",
       "\n",
       "  reviewCreatedVersion                   at replyContent repliedAt appVersion  \\\n",
       "0                1.4.4  2024-12-06 01:34:09          NaN       NaN      1.4.4   \n",
       "1                  NaN  2024-07-26 13:27:31          NaN       NaN        NaN   \n",
       "2                1.4.4  2024-07-23 10:10:38          NaN       NaN      1.4.4   \n",
       "3                1.4.4  2024-05-21 13:27:44          NaN       NaN      1.4.4   \n",
       "4                1.4.4  2024-02-01 17:23:39          NaN       NaN      1.4.4   \n",
       "\n",
       "                                    sentiment_result sentiment_label  \\\n",
       "0  [{'label': 'POSITIVE', 'score': 0.998741209506...        POSITIVE   \n",
       "1  [{'label': 'POSITIVE', 'score': 0.998786866664...        POSITIVE   \n",
       "2  [{'label': 'POSITIVE', 'score': 0.998811364173...        POSITIVE   \n",
       "3  [{'label': 'POSITIVE', 'score': 0.998936235904...        POSITIVE   \n",
       "4  [{'label': 'POSITIVE', 'score': 0.998515427112...        POSITIVE   \n",
       "\n",
       "   sentiment_score  \n",
       "0         0.998741  \n",
       "1         0.998787  \n",
       "2         0.998811  \n",
       "3         0.998936  \n",
       "4         0.998515  "
      ]
     },
     "execution_count": 4,
     "metadata": {},
     "output_type": "execute_result"
    }
   ],
   "source": [
    "df2.head(5)"
   ]
  },
  {
   "cell_type": "code",
   "execution_count": 5,
   "id": "7d968eb7",
   "metadata": {
    "scrolled": false
   },
   "outputs": [
    {
     "data": {
      "text/plain": [
       "1.4.4    39\n",
       "1.4.1    19\n",
       "1.3.9    15\n",
       "1.3.7     6\n",
       "1.3.4     4\n",
       "1.4.2     3\n",
       "1.3.2     3\n",
       "1.2.6     2\n",
       "1.1.1     2\n",
       "1.3.5     1\n",
       "1.3.3     1\n",
       "1.3.0     1\n",
       "1.1.3     1\n",
       "1.0.3     1\n",
       "Name: reviewCreatedVersion, dtype: int64"
      ]
     },
     "execution_count": 5,
     "metadata": {},
     "output_type": "execute_result"
    }
   ],
   "source": [
    "df2['reviewCreatedVersion'].value_counts()"
   ]
  },
  {
   "cell_type": "code",
   "execution_count": 6,
   "id": "ef8b00af",
   "metadata": {
    "scrolled": true
   },
   "outputs": [
    {
     "data": {
      "text/plain": [
       "1.4.4    39\n",
       "1.4.1    19\n",
       "1.3.9    15\n",
       "1.3.7     6\n",
       "1.3.4     4\n",
       "1.4.2     3\n",
       "1.3.2     3\n",
       "1.2.6     2\n",
       "1.1.1     2\n",
       "1.3.5     1\n",
       "1.3.3     1\n",
       "1.3.0     1\n",
       "1.1.3     1\n",
       "1.0.3     1\n",
       "Name: appVersion, dtype: int64"
      ]
     },
     "execution_count": 6,
     "metadata": {},
     "output_type": "execute_result"
    }
   ],
   "source": [
    "df2['appVersion'].value_counts()"
   ]
  },
  {
   "cell_type": "code",
   "execution_count": 7,
   "id": "d103e56d",
   "metadata": {
    "scrolled": true
   },
   "outputs": [
    {
     "data": {
      "text/plain": [
       "name           object\n",
       "star_rating     int64\n",
       "date           object\n",
       "review         object\n",
       "people         object\n",
       "device         object\n",
       "dtype: object"
      ]
     },
     "execution_count": 7,
     "metadata": {},
     "output_type": "execute_result"
    }
   ],
   "source": [
    "df1.dtypes"
   ]
  },
  {
   "cell_type": "code",
   "execution_count": 8,
   "id": "c9967bea",
   "metadata": {},
   "outputs": [],
   "source": [
    "# ensure object datatype of 'review' is string\n",
    "df1['review'] = df1['review'].astype('str')"
   ]
  },
  {
   "cell_type": "code",
   "execution_count": 9,
   "id": "7c9b253a",
   "metadata": {},
   "outputs": [],
   "source": [
    "# perform inner join on review-content as the common columns\n",
    "df = df1.merge(df2[['userName','reviewCreatedVersion','sentiment_label','sentiment_score','content','reviewId']], left_on='review', right_on='content', how='inner')"
   ]
  },
  {
   "cell_type": "code",
   "execution_count": 10,
   "id": "89a426e6",
   "metadata": {},
   "outputs": [
    {
     "data": {
      "text/html": [
       "<div>\n",
       "<style scoped>\n",
       "    .dataframe tbody tr th:only-of-type {\n",
       "        vertical-align: middle;\n",
       "    }\n",
       "\n",
       "    .dataframe tbody tr th {\n",
       "        vertical-align: top;\n",
       "    }\n",
       "\n",
       "    .dataframe thead th {\n",
       "        text-align: right;\n",
       "    }\n",
       "</style>\n",
       "<table border=\"1\" class=\"dataframe\">\n",
       "  <thead>\n",
       "    <tr style=\"text-align: right;\">\n",
       "      <th></th>\n",
       "      <th>name</th>\n",
       "      <th>star_rating</th>\n",
       "      <th>date</th>\n",
       "      <th>review</th>\n",
       "      <th>people</th>\n",
       "      <th>device</th>\n",
       "      <th>userName</th>\n",
       "      <th>reviewCreatedVersion</th>\n",
       "      <th>sentiment_label</th>\n",
       "      <th>sentiment_score</th>\n",
       "      <th>content</th>\n",
       "      <th>reviewId</th>\n",
       "    </tr>\n",
       "  </thead>\n",
       "  <tbody>\n",
       "    <tr>\n",
       "      <th>0</th>\n",
       "      <td>jereld camphor</td>\n",
       "      <td>5</td>\n",
       "      <td>August 23, 2020</td>\n",
       "      <td>It is an excellent app. It provides a practica...</td>\n",
       "      <td>79</td>\n",
       "      <td>Phone</td>\n",
       "      <td>jereld camphor</td>\n",
       "      <td>1.3.4</td>\n",
       "      <td>POSITIVE</td>\n",
       "      <td>0.998888</td>\n",
       "      <td>It is an excellent app. It provides a practica...</td>\n",
       "      <td>37ced158-8ab4-47d7-837f-a0aee213fd8c</td>\n",
       "    </tr>\n",
       "    <tr>\n",
       "      <th>1</th>\n",
       "      <td>Harrison H</td>\n",
       "      <td>5</td>\n",
       "      <td>October 30, 2020</td>\n",
       "      <td>So far I like the app a lot. It may not look a...</td>\n",
       "      <td>130</td>\n",
       "      <td>Phone</td>\n",
       "      <td>Harrison H</td>\n",
       "      <td>1.3.7</td>\n",
       "      <td>POSITIVE</td>\n",
       "      <td>0.998929</td>\n",
       "      <td>So far I like the app a lot. It may not look a...</td>\n",
       "      <td>1c03e4e9-c29a-4bdb-aa0e-1360b63842c7</td>\n",
       "    </tr>\n",
       "    <tr>\n",
       "      <th>2</th>\n",
       "      <td>Julio LH</td>\n",
       "      <td>4</td>\n",
       "      <td>December 6, 2024</td>\n",
       "      <td>A great resource for learning HTML or brushing...</td>\n",
       "      <td>None</td>\n",
       "      <td>Phone</td>\n",
       "      <td>Julio LH</td>\n",
       "      <td>1.4.4</td>\n",
       "      <td>POSITIVE</td>\n",
       "      <td>0.998741</td>\n",
       "      <td>A great resource for learning HTML or brushing...</td>\n",
       "      <td>27722653-2923-409c-844a-73cfad4e6271</td>\n",
       "    </tr>\n",
       "    <tr>\n",
       "      <th>3</th>\n",
       "      <td>Cecile Perret</td>\n",
       "      <td>5</td>\n",
       "      <td>October 19, 2020</td>\n",
       "      <td>I really like this app and its partner apps (c...</td>\n",
       "      <td>40</td>\n",
       "      <td>Phone</td>\n",
       "      <td>Cecile Perret</td>\n",
       "      <td>1.3.7</td>\n",
       "      <td>POSITIVE</td>\n",
       "      <td>0.998935</td>\n",
       "      <td>I really like this app and its partner apps (c...</td>\n",
       "      <td>f1fc09c7-b3c1-46fa-833b-ba07d2f67eb6</td>\n",
       "    </tr>\n",
       "    <tr>\n",
       "      <th>4</th>\n",
       "      <td>Cathy Furman</td>\n",
       "      <td>4</td>\n",
       "      <td>February 19, 2023</td>\n",
       "      <td>App works well, some bugs here and there with ...</td>\n",
       "      <td>17</td>\n",
       "      <td>Phone</td>\n",
       "      <td>Cathy Furman</td>\n",
       "      <td>1.4.4</td>\n",
       "      <td>POSITIVE</td>\n",
       "      <td>0.998915</td>\n",
       "      <td>App works well, some bugs here and there with ...</td>\n",
       "      <td>c06a6a0b-0a83-427c-bf67-6b981a4b8589</td>\n",
       "    </tr>\n",
       "    <tr>\n",
       "      <th>...</th>\n",
       "      <td>...</td>\n",
       "      <td>...</td>\n",
       "      <td>...</td>\n",
       "      <td>...</td>\n",
       "      <td>...</td>\n",
       "      <td>...</td>\n",
       "      <td>...</td>\n",
       "      <td>...</td>\n",
       "      <td>...</td>\n",
       "      <td>...</td>\n",
       "      <td>...</td>\n",
       "      <td>...</td>\n",
       "    </tr>\n",
       "    <tr>\n",
       "      <th>110</th>\n",
       "      <td>Astro Biological</td>\n",
       "      <td>5</td>\n",
       "      <td>June 24, 2023</td>\n",
       "      <td>This app has been a huge help in my learning j...</td>\n",
       "      <td>1</td>\n",
       "      <td>Tablet</td>\n",
       "      <td>Astro Biological</td>\n",
       "      <td>1.4.4</td>\n",
       "      <td>POSITIVE</td>\n",
       "      <td>0.998798</td>\n",
       "      <td>This app has been a huge help in my learning j...</td>\n",
       "      <td>98489830-c94c-4e4b-935a-afc959ce6863</td>\n",
       "    </tr>\n",
       "    <tr>\n",
       "      <th>111</th>\n",
       "      <td>Thomas Tom</td>\n",
       "      <td>4</td>\n",
       "      <td>August 22, 2021</td>\n",
       "      <td>Je suis content pour cette app. But how do you...</td>\n",
       "      <td>7</td>\n",
       "      <td>Tablet</td>\n",
       "      <td>Thomas Tom</td>\n",
       "      <td>1.4.1</td>\n",
       "      <td>NEGATIVE</td>\n",
       "      <td>0.998142</td>\n",
       "      <td>Je suis content pour cette app. But how do you...</td>\n",
       "      <td>4bc2334c-3aac-433f-8e35-9c2a5fe8c71d</td>\n",
       "    </tr>\n",
       "    <tr>\n",
       "      <th>112</th>\n",
       "      <td>Jason Collins</td>\n",
       "      <td>5</td>\n",
       "      <td>August 11, 2022</td>\n",
       "      <td>Actually quite good</td>\n",
       "      <td>None</td>\n",
       "      <td>Tablet</td>\n",
       "      <td>Jason Collins</td>\n",
       "      <td>1.4.4</td>\n",
       "      <td>POSITIVE</td>\n",
       "      <td>0.998018</td>\n",
       "      <td>Actually quite good</td>\n",
       "      <td>2c6c699d-3fe1-44c9-b31f-0c6dee8d2566</td>\n",
       "    </tr>\n",
       "    <tr>\n",
       "      <th>113</th>\n",
       "      <td>philip kemp</td>\n",
       "      <td>5</td>\n",
       "      <td>July 6, 2020</td>\n",
       "      <td>Exceptional App</td>\n",
       "      <td>1</td>\n",
       "      <td>Tablet</td>\n",
       "      <td>philip kemp</td>\n",
       "      <td>1.3.4</td>\n",
       "      <td>POSITIVE</td>\n",
       "      <td>0.998577</td>\n",
       "      <td>Exceptional App</td>\n",
       "      <td>f83a6006-9031-4ad4-a6d7-add0317d6101</td>\n",
       "    </tr>\n",
       "    <tr>\n",
       "      <th>114</th>\n",
       "      <td>A Google user</td>\n",
       "      <td>5</td>\n",
       "      <td>June 25, 2019</td>\n",
       "      <td>I'm well impressed with this teaching aid and ...</td>\n",
       "      <td>5</td>\n",
       "      <td>Tablet</td>\n",
       "      <td>A Google user</td>\n",
       "      <td>1.1.3</td>\n",
       "      <td>POSITIVE</td>\n",
       "      <td>0.998935</td>\n",
       "      <td>I'm well impressed with this teaching aid and ...</td>\n",
       "      <td>6b11fd87-3b4f-4a57-801b-cb1c9606772e</td>\n",
       "    </tr>\n",
       "  </tbody>\n",
       "</table>\n",
       "<p>115 rows × 12 columns</p>\n",
       "</div>"
      ],
      "text/plain": [
       "                 name  star_rating               date  \\\n",
       "0      jereld camphor            5    August 23, 2020   \n",
       "1          Harrison H            5   October 30, 2020   \n",
       "2            Julio LH            4   December 6, 2024   \n",
       "3       Cecile Perret            5   October 19, 2020   \n",
       "4        Cathy Furman            4  February 19, 2023   \n",
       "..                ...          ...                ...   \n",
       "110  Astro Biological            5      June 24, 2023   \n",
       "111        Thomas Tom            4    August 22, 2021   \n",
       "112     Jason Collins            5    August 11, 2022   \n",
       "113       philip kemp            5       July 6, 2020   \n",
       "114     A Google user            5      June 25, 2019   \n",
       "\n",
       "                                                review people  device  \\\n",
       "0    It is an excellent app. It provides a practica...     79   Phone   \n",
       "1    So far I like the app a lot. It may not look a...    130   Phone   \n",
       "2    A great resource for learning HTML or brushing...   None   Phone   \n",
       "3    I really like this app and its partner apps (c...     40   Phone   \n",
       "4    App works well, some bugs here and there with ...     17   Phone   \n",
       "..                                                 ...    ...     ...   \n",
       "110  This app has been a huge help in my learning j...      1  Tablet   \n",
       "111  Je suis content pour cette app. But how do you...      7  Tablet   \n",
       "112                                Actually quite good   None  Tablet   \n",
       "113                                    Exceptional App      1  Tablet   \n",
       "114  I'm well impressed with this teaching aid and ...      5  Tablet   \n",
       "\n",
       "             userName reviewCreatedVersion sentiment_label  sentiment_score  \\\n",
       "0      jereld camphor                1.3.4        POSITIVE         0.998888   \n",
       "1          Harrison H                1.3.7        POSITIVE         0.998929   \n",
       "2            Julio LH                1.4.4        POSITIVE         0.998741   \n",
       "3       Cecile Perret                1.3.7        POSITIVE         0.998935   \n",
       "4        Cathy Furman                1.4.4        POSITIVE         0.998915   \n",
       "..                ...                  ...             ...              ...   \n",
       "110  Astro Biological                1.4.4        POSITIVE         0.998798   \n",
       "111        Thomas Tom                1.4.1        NEGATIVE         0.998142   \n",
       "112     Jason Collins                1.4.4        POSITIVE         0.998018   \n",
       "113       philip kemp                1.3.4        POSITIVE         0.998577   \n",
       "114     A Google user                1.1.3        POSITIVE         0.998935   \n",
       "\n",
       "                                               content  \\\n",
       "0    It is an excellent app. It provides a practica...   \n",
       "1    So far I like the app a lot. It may not look a...   \n",
       "2    A great resource for learning HTML or brushing...   \n",
       "3    I really like this app and its partner apps (c...   \n",
       "4    App works well, some bugs here and there with ...   \n",
       "..                                                 ...   \n",
       "110  This app has been a huge help in my learning j...   \n",
       "111  Je suis content pour cette app. But how do you...   \n",
       "112                                Actually quite good   \n",
       "113                                    Exceptional App   \n",
       "114  I'm well impressed with this teaching aid and ...   \n",
       "\n",
       "                                 reviewId  \n",
       "0    37ced158-8ab4-47d7-837f-a0aee213fd8c  \n",
       "1    1c03e4e9-c29a-4bdb-aa0e-1360b63842c7  \n",
       "2    27722653-2923-409c-844a-73cfad4e6271  \n",
       "3    f1fc09c7-b3c1-46fa-833b-ba07d2f67eb6  \n",
       "4    c06a6a0b-0a83-427c-bf67-6b981a4b8589  \n",
       "..                                    ...  \n",
       "110  98489830-c94c-4e4b-935a-afc959ce6863  \n",
       "111  4bc2334c-3aac-433f-8e35-9c2a5fe8c71d  \n",
       "112  2c6c699d-3fe1-44c9-b31f-0c6dee8d2566  \n",
       "113  f83a6006-9031-4ad4-a6d7-add0317d6101  \n",
       "114  6b11fd87-3b4f-4a57-801b-cb1c9606772e  \n",
       "\n",
       "[115 rows x 12 columns]"
      ]
     },
     "execution_count": 10,
     "metadata": {},
     "output_type": "execute_result"
    }
   ],
   "source": [
    "# re-assess dataframe\n",
    "df"
   ]
  },
  {
   "cell_type": "code",
   "execution_count": 11,
   "id": "2d2f9906",
   "metadata": {
    "scrolled": true
   },
   "outputs": [
    {
     "data": {
      "text/plain": [
       "3"
      ]
     },
     "execution_count": 11,
     "metadata": {},
     "output_type": "execute_result"
    }
   ],
   "source": [
    "# sum of duplicates in parent df1\n",
    "df1['review'].duplicated().sum()"
   ]
  },
  {
   "cell_type": "code",
   "execution_count": 12,
   "id": "3316842d",
   "metadata": {},
   "outputs": [
    {
     "data": {
      "text/plain": [
       "3"
      ]
     },
     "execution_count": 12,
     "metadata": {},
     "output_type": "execute_result"
    }
   ],
   "source": [
    "# sum of duplicates in parent df2\n",
    "df2['content'].duplicated().sum()"
   ]
  },
  {
   "cell_type": "code",
   "execution_count": 13,
   "id": "28a31a53",
   "metadata": {
    "scrolled": true
   },
   "outputs": [
    {
     "name": "stdout",
     "output_type": "stream",
     "text": [
      "                  name  star_rating              date     review people  \\\n",
      "89   Trevor Fitzgerald            5  January 31, 2021  Very good      1   \n",
      "90   Trevor Fitzgerald            5  January 31, 2021  Very good      1   \n",
      "91   Trevor Fitzgerald            5  January 31, 2021  Very good      1   \n",
      "92        Chris Arranz            5  February 9, 2021  Very good      1   \n",
      "93        Chris Arranz            5  February 9, 2021  Very good      1   \n",
      "94        Chris Arranz            5  February 9, 2021  Very good      1   \n",
      "95        Chris Arranz            5  February 9, 2021  Very good      1   \n",
      "96       JUSTICE AWIAH            5  December 6, 2020  Very good      1   \n",
      "97       JUSTICE AWIAH            5  December 6, 2020  Very good      1   \n",
      "98       JUSTICE AWIAH            5  December 6, 2020  Very good      1   \n",
      "99       JUSTICE AWIAH            5  December 6, 2020  Very good      1   \n",
      "100      Digital World            5      July 6, 2020  Very good      1   \n",
      "101      Digital World            5      July 6, 2020  Very good      1   \n",
      "102      Digital World            5      July 6, 2020  Very good      1   \n",
      "103      Digital World            5      July 6, 2020  Very good      1   \n",
      "\n",
      "    device           userName reviewCreatedVersion sentiment_label  \\\n",
      "89   Phone  Trevor Fitzgerald                1.3.9        POSITIVE   \n",
      "90   Phone      JUSTICE AWIAH                1.3.9        POSITIVE   \n",
      "91   Phone      Digital World                1.3.4        POSITIVE   \n",
      "92   Phone       Chris Arranz                1.3.9        POSITIVE   \n",
      "93   Phone  Trevor Fitzgerald                1.3.9        POSITIVE   \n",
      "94   Phone      JUSTICE AWIAH                1.3.9        POSITIVE   \n",
      "95   Phone      Digital World                1.3.4        POSITIVE   \n",
      "96   Phone       Chris Arranz                1.3.9        POSITIVE   \n",
      "97   Phone  Trevor Fitzgerald                1.3.9        POSITIVE   \n",
      "98   Phone      JUSTICE AWIAH                1.3.9        POSITIVE   \n",
      "99   Phone      Digital World                1.3.4        POSITIVE   \n",
      "100  Phone       Chris Arranz                1.3.9        POSITIVE   \n",
      "101  Phone  Trevor Fitzgerald                1.3.9        POSITIVE   \n",
      "102  Phone      JUSTICE AWIAH                1.3.9        POSITIVE   \n",
      "103  Phone      Digital World                1.3.4        POSITIVE   \n",
      "\n",
      "     sentiment_score    content                              reviewId  \n",
      "89          0.998602  Very good  27ca7741-d289-4793-af5f-79b8e56fc8e5  \n",
      "90          0.998602  Very good  9af53e13-17d5-4df0-a809-fbba9ca1f26a  \n",
      "91          0.998602  Very good  85d67a0c-d404-4b6b-bfa9-2b464be828db  \n",
      "92          0.998602  Very good  828537ef-0cf4-4e7a-b824-f9622318755d  \n",
      "93          0.998602  Very good  27ca7741-d289-4793-af5f-79b8e56fc8e5  \n",
      "94          0.998602  Very good  9af53e13-17d5-4df0-a809-fbba9ca1f26a  \n",
      "95          0.998602  Very good  85d67a0c-d404-4b6b-bfa9-2b464be828db  \n",
      "96          0.998602  Very good  828537ef-0cf4-4e7a-b824-f9622318755d  \n",
      "97          0.998602  Very good  27ca7741-d289-4793-af5f-79b8e56fc8e5  \n",
      "98          0.998602  Very good  9af53e13-17d5-4df0-a809-fbba9ca1f26a  \n",
      "99          0.998602  Very good  85d67a0c-d404-4b6b-bfa9-2b464be828db  \n",
      "100         0.998602  Very good  828537ef-0cf4-4e7a-b824-f9622318755d  \n",
      "101         0.998602  Very good  27ca7741-d289-4793-af5f-79b8e56fc8e5  \n",
      "102         0.998602  Very good  9af53e13-17d5-4df0-a809-fbba9ca1f26a  \n",
      "103         0.998602  Very good  85d67a0c-d404-4b6b-bfa9-2b464be828db  \n"
     ]
    }
   ],
   "source": [
    "# view duplicates in merged dataframe\n",
    "print(df[df['review'].duplicated()])"
   ]
  },
  {
   "cell_type": "code",
   "execution_count": 14,
   "id": "5e97fcb0",
   "metadata": {},
   "outputs": [
    {
     "data": {
      "text/plain": [
       "20"
      ]
     },
     "execution_count": 14,
     "metadata": {},
     "output_type": "execute_result"
    }
   ],
   "source": [
    "# check for duplicate names in the merged dataframe\n",
    "df['name'].duplicated().sum()"
   ]
  },
  {
   "cell_type": "code",
   "execution_count": 15,
   "id": "73361176",
   "metadata": {},
   "outputs": [
    {
     "data": {
      "text/plain": [
       "8"
      ]
     },
     "execution_count": 15,
     "metadata": {},
     "output_type": "execute_result"
    }
   ],
   "source": [
    "# check for duplicate names in the old df1\n",
    "df1['name'].duplicated().sum()"
   ]
  },
  {
   "cell_type": "code",
   "execution_count": 16,
   "id": "c7c5db95",
   "metadata": {},
   "outputs": [
    {
     "data": {
      "text/plain": [
       "8"
      ]
     },
     "execution_count": 16,
     "metadata": {},
     "output_type": "execute_result"
    }
   ],
   "source": [
    "# check for duplicate names in the old df2\n",
    "df2['userName'].duplicated().sum()"
   ]
  },
  {
   "cell_type": "code",
   "execution_count": 17,
   "id": "a69abb52",
   "metadata": {
    "scrolled": true
   },
   "outputs": [
    {
     "data": {
      "text/plain": [
       "None    41\n",
       "1       30\n",
       "2       11\n",
       "7        6\n",
       "4        5\n",
       "5        3\n",
       "9        3\n",
       "17       2\n",
       "3        2\n",
       "8        2\n",
       "79       1\n",
       "14       1\n",
       "12       1\n",
       "11       1\n",
       "15       1\n",
       "130      1\n",
       "29       1\n",
       "18       1\n",
       "40       1\n",
       "10       1\n",
       "Name: people, dtype: int64"
      ]
     },
     "execution_count": 17,
     "metadata": {},
     "output_type": "execute_result"
    }
   ],
   "source": [
    "# check count of values in `people` column\n",
    "df['people'].value_counts()"
   ]
  },
  {
   "cell_type": "code",
   "execution_count": 18,
   "id": "d7df405f",
   "metadata": {},
   "outputs": [
    {
     "data": {
      "text/plain": [
       "5"
      ]
     },
     "execution_count": 18,
     "metadata": {},
     "output_type": "execute_result"
    }
   ],
   "source": [
    "# check for null values\n",
    "df['reviewCreatedVersion'].isna().sum()"
   ]
  },
  {
   "cell_type": "code",
   "execution_count": 19,
   "id": "5cc19ccf",
   "metadata": {
    "scrolled": true
   },
   "outputs": [
    {
     "name": "stdout",
     "output_type": "stream",
     "text": [
      "              name  star_rating               date  \\\n",
      "7    A Google user            5     April 27, 2020   \n",
      "18   A Google user            5   January 31, 2020   \n",
      "20   A Google user            5  December 30, 2018   \n",
      "30   A Google user            5   October 29, 2019   \n",
      "35   A Google user            5       May 11, 2019   \n",
      "37   A Google user            5     April 14, 2020   \n",
      "93   A Google user            5        May 7, 2019   \n",
      "102  A Google user            5      June 25, 2019   \n",
      "\n",
      "                                                review people  device  \n",
      "7    So far this app has been excellent in teaching...      2   Phone  \n",
      "18   Edit: completed this course and using it still...      7   Phone  \n",
      "20   Best app to learn HTML. I love the Try It Your...      9   Phone  \n",
      "30   Very good for Beginners in Web Development. Cl...      4   Phone  \n",
      "35   Well paced lessons with relevant quizzes throu...      4   Phone  \n",
      "37                Great interface and content to learn      5   Phone  \n",
      "93                                                Good      3   Phone  \n",
      "102  I'm well impressed with this teaching aid and ...      5  Tablet  \n"
     ]
    }
   ],
   "source": [
    "# view all rows with the anonymous name 'A Google User'\n",
    "print(df1[df1['name'] == 'A Google user'])"
   ]
  },
  {
   "cell_type": "code",
   "execution_count": 20,
   "id": "b80234e4",
   "metadata": {},
   "outputs": [
    {
     "data": {
      "text/plain": [
       "dtype('O')"
      ]
     },
     "execution_count": 20,
     "metadata": {},
     "output_type": "execute_result"
    }
   ],
   "source": [
    "df['reviewCreatedVersion'].dtype"
   ]
  },
  {
   "cell_type": "markdown",
   "id": "babda9f4",
   "metadata": {},
   "source": [
    "## Quality Issues\n",
    "**Merged `df` table**\n",
    "1. Duplicated rows\n",
    "2. Duplicated columns\n",
    "3. Unrefined column names and spelling\n",
    "4. Capitalized values in column `sentiment_label`\n",
    "5. Inconsistent word case of `name` values\n",
    "6.  `None` instead of `NaN` for missing `people` data\n",
    "7. `date` column is not a `datetime` datatype\n",
    "8. Two columns, `reviewCreatedVersion` and `star_rating`, are not `string` datatype"
   ]
  },
  {
   "cell_type": "markdown",
   "id": "39695205",
   "metadata": {},
   "source": [
    "## Cleaning"
   ]
  },
  {
   "cell_type": "code",
   "execution_count": 21,
   "id": "2bae8ddb",
   "metadata": {},
   "outputs": [],
   "source": [
    "# save a copy of the dataframe\n",
    "df_clean = df.copy()"
   ]
  },
  {
   "cell_type": "markdown",
   "id": "f523d004",
   "metadata": {},
   "source": [
    "### Quality Issue 1: Duplicated rows"
   ]
  },
  {
   "cell_type": "markdown",
   "id": "1c0b20c9",
   "metadata": {},
   "source": [
    "#### Code:"
   ]
  },
  {
   "cell_type": "code",
   "execution_count": 22,
   "id": "24fe4e39",
   "metadata": {},
   "outputs": [
    {
     "name": "stdout",
     "output_type": "stream",
     "text": [
      "[88, 90, 91, 93, 94, 95, 96, 97, 99, 100, 101, 102]\n"
     ]
    }
   ],
   "source": [
    "# empty list of duplicated row indexes\n",
    "d_index = []\n",
    "\n",
    "# for loop to get a list of the duplicate row indexes\n",
    "for i in range(len(df_clean)):\n",
    "    if df_clean.iloc[i]['name'] == df_clean.iloc[i]['userName']:\n",
    "        pass\n",
    "    else:\n",
    "        d_index.append(i)\n",
    "\n",
    "print(d_index)"
   ]
  },
  {
   "cell_type": "code",
   "execution_count": 23,
   "id": "fbf0b901",
   "metadata": {},
   "outputs": [
    {
     "name": "stdout",
     "output_type": "stream",
     "text": [
      "name                                       Trevor Fitzgerald\n",
      "star_rating                                                5\n",
      "date                                        January 31, 2021\n",
      "review                                             Very good\n",
      "people                                                     1\n",
      "device                                                 Phone\n",
      "userName                                        Chris Arranz\n",
      "reviewCreatedVersion                                   1.3.9\n",
      "sentiment_label                                     POSITIVE\n",
      "sentiment_score                                     0.998602\n",
      "content                                            Very good\n",
      "reviewId                828537ef-0cf4-4e7a-b824-f9622318755d\n",
      "Name: 88, dtype: object\n"
     ]
    }
   ],
   "source": [
    "# view row with index number 88 \n",
    "print(df_clean.iloc[88])"
   ]
  },
  {
   "cell_type": "code",
   "execution_count": 24,
   "id": "8bf0fed4",
   "metadata": {},
   "outputs": [
    {
     "name": "stdout",
     "output_type": "stream",
     "text": [
      "                 name  star_rating              date     review people device  \\\n",
      "88  Trevor Fitzgerald            5  January 31, 2021  Very good      1  Phone   \n",
      "89  Trevor Fitzgerald            5  January 31, 2021  Very good      1  Phone   \n",
      "90  Trevor Fitzgerald            5  January 31, 2021  Very good      1  Phone   \n",
      "91  Trevor Fitzgerald            5  January 31, 2021  Very good      1  Phone   \n",
      "\n",
      "             userName reviewCreatedVersion sentiment_label  sentiment_score  \\\n",
      "88       Chris Arranz                1.3.9        POSITIVE         0.998602   \n",
      "89  Trevor Fitzgerald                1.3.9        POSITIVE         0.998602   \n",
      "90      JUSTICE AWIAH                1.3.9        POSITIVE         0.998602   \n",
      "91      Digital World                1.3.4        POSITIVE         0.998602   \n",
      "\n",
      "      content                              reviewId  \n",
      "88  Very good  828537ef-0cf4-4e7a-b824-f9622318755d  \n",
      "89  Very good  27ca7741-d289-4793-af5f-79b8e56fc8e5  \n",
      "90  Very good  9af53e13-17d5-4df0-a809-fbba9ca1f26a  \n",
      "91  Very good  85d67a0c-d404-4b6b-bfa9-2b464be828db  \n"
     ]
    }
   ],
   "source": [
    "# view all rows with name 'Trevor Fitzgerald'\n",
    "print(df_clean[df_clean['name']== 'Trevor Fitzgerald'])"
   ]
  },
  {
   "cell_type": "code",
   "execution_count": 25,
   "id": "191cff64",
   "metadata": {},
   "outputs": [
    {
     "data": {
      "text/html": [
       "<div>\n",
       "<style scoped>\n",
       "    .dataframe tbody tr th:only-of-type {\n",
       "        vertical-align: middle;\n",
       "    }\n",
       "\n",
       "    .dataframe tbody tr th {\n",
       "        vertical-align: top;\n",
       "    }\n",
       "\n",
       "    .dataframe thead th {\n",
       "        text-align: right;\n",
       "    }\n",
       "</style>\n",
       "<table border=\"1\" class=\"dataframe\">\n",
       "  <thead>\n",
       "    <tr style=\"text-align: right;\">\n",
       "      <th></th>\n",
       "      <th>name</th>\n",
       "      <th>star_rating</th>\n",
       "      <th>date</th>\n",
       "      <th>review</th>\n",
       "      <th>people</th>\n",
       "      <th>device</th>\n",
       "      <th>userName</th>\n",
       "      <th>reviewCreatedVersion</th>\n",
       "      <th>sentiment_label</th>\n",
       "      <th>sentiment_score</th>\n",
       "      <th>content</th>\n",
       "      <th>reviewId</th>\n",
       "    </tr>\n",
       "  </thead>\n",
       "  <tbody>\n",
       "    <tr>\n",
       "      <th>0</th>\n",
       "      <td>jereld camphor</td>\n",
       "      <td>5</td>\n",
       "      <td>August 23, 2020</td>\n",
       "      <td>It is an excellent app. It provides a practica...</td>\n",
       "      <td>79</td>\n",
       "      <td>Phone</td>\n",
       "      <td>jereld camphor</td>\n",
       "      <td>1.3.4</td>\n",
       "      <td>POSITIVE</td>\n",
       "      <td>0.998888</td>\n",
       "      <td>It is an excellent app. It provides a practica...</td>\n",
       "      <td>37ced158-8ab4-47d7-837f-a0aee213fd8c</td>\n",
       "    </tr>\n",
       "    <tr>\n",
       "      <th>1</th>\n",
       "      <td>Harrison H</td>\n",
       "      <td>5</td>\n",
       "      <td>October 30, 2020</td>\n",
       "      <td>So far I like the app a lot. It may not look a...</td>\n",
       "      <td>130</td>\n",
       "      <td>Phone</td>\n",
       "      <td>Harrison H</td>\n",
       "      <td>1.3.7</td>\n",
       "      <td>POSITIVE</td>\n",
       "      <td>0.998929</td>\n",
       "      <td>So far I like the app a lot. It may not look a...</td>\n",
       "      <td>1c03e4e9-c29a-4bdb-aa0e-1360b63842c7</td>\n",
       "    </tr>\n",
       "    <tr>\n",
       "      <th>2</th>\n",
       "      <td>Julio LH</td>\n",
       "      <td>4</td>\n",
       "      <td>December 6, 2024</td>\n",
       "      <td>A great resource for learning HTML or brushing...</td>\n",
       "      <td>None</td>\n",
       "      <td>Phone</td>\n",
       "      <td>Julio LH</td>\n",
       "      <td>1.4.4</td>\n",
       "      <td>POSITIVE</td>\n",
       "      <td>0.998741</td>\n",
       "      <td>A great resource for learning HTML or brushing...</td>\n",
       "      <td>27722653-2923-409c-844a-73cfad4e6271</td>\n",
       "    </tr>\n",
       "    <tr>\n",
       "      <th>3</th>\n",
       "      <td>Cecile Perret</td>\n",
       "      <td>5</td>\n",
       "      <td>October 19, 2020</td>\n",
       "      <td>I really like this app and its partner apps (c...</td>\n",
       "      <td>40</td>\n",
       "      <td>Phone</td>\n",
       "      <td>Cecile Perret</td>\n",
       "      <td>1.3.7</td>\n",
       "      <td>POSITIVE</td>\n",
       "      <td>0.998935</td>\n",
       "      <td>I really like this app and its partner apps (c...</td>\n",
       "      <td>f1fc09c7-b3c1-46fa-833b-ba07d2f67eb6</td>\n",
       "    </tr>\n",
       "    <tr>\n",
       "      <th>4</th>\n",
       "      <td>Cathy Furman</td>\n",
       "      <td>4</td>\n",
       "      <td>February 19, 2023</td>\n",
       "      <td>App works well, some bugs here and there with ...</td>\n",
       "      <td>17</td>\n",
       "      <td>Phone</td>\n",
       "      <td>Cathy Furman</td>\n",
       "      <td>1.4.4</td>\n",
       "      <td>POSITIVE</td>\n",
       "      <td>0.998915</td>\n",
       "      <td>App works well, some bugs here and there with ...</td>\n",
       "      <td>c06a6a0b-0a83-427c-bf67-6b981a4b8589</td>\n",
       "    </tr>\n",
       "    <tr>\n",
       "      <th>...</th>\n",
       "      <td>...</td>\n",
       "      <td>...</td>\n",
       "      <td>...</td>\n",
       "      <td>...</td>\n",
       "      <td>...</td>\n",
       "      <td>...</td>\n",
       "      <td>...</td>\n",
       "      <td>...</td>\n",
       "      <td>...</td>\n",
       "      <td>...</td>\n",
       "      <td>...</td>\n",
       "      <td>...</td>\n",
       "    </tr>\n",
       "    <tr>\n",
       "      <th>110</th>\n",
       "      <td>Astro Biological</td>\n",
       "      <td>5</td>\n",
       "      <td>June 24, 2023</td>\n",
       "      <td>This app has been a huge help in my learning j...</td>\n",
       "      <td>1</td>\n",
       "      <td>Tablet</td>\n",
       "      <td>Astro Biological</td>\n",
       "      <td>1.4.4</td>\n",
       "      <td>POSITIVE</td>\n",
       "      <td>0.998798</td>\n",
       "      <td>This app has been a huge help in my learning j...</td>\n",
       "      <td>98489830-c94c-4e4b-935a-afc959ce6863</td>\n",
       "    </tr>\n",
       "    <tr>\n",
       "      <th>111</th>\n",
       "      <td>Thomas Tom</td>\n",
       "      <td>4</td>\n",
       "      <td>August 22, 2021</td>\n",
       "      <td>Je suis content pour cette app. But how do you...</td>\n",
       "      <td>7</td>\n",
       "      <td>Tablet</td>\n",
       "      <td>Thomas Tom</td>\n",
       "      <td>1.4.1</td>\n",
       "      <td>NEGATIVE</td>\n",
       "      <td>0.998142</td>\n",
       "      <td>Je suis content pour cette app. But how do you...</td>\n",
       "      <td>4bc2334c-3aac-433f-8e35-9c2a5fe8c71d</td>\n",
       "    </tr>\n",
       "    <tr>\n",
       "      <th>112</th>\n",
       "      <td>Jason Collins</td>\n",
       "      <td>5</td>\n",
       "      <td>August 11, 2022</td>\n",
       "      <td>Actually quite good</td>\n",
       "      <td>None</td>\n",
       "      <td>Tablet</td>\n",
       "      <td>Jason Collins</td>\n",
       "      <td>1.4.4</td>\n",
       "      <td>POSITIVE</td>\n",
       "      <td>0.998018</td>\n",
       "      <td>Actually quite good</td>\n",
       "      <td>2c6c699d-3fe1-44c9-b31f-0c6dee8d2566</td>\n",
       "    </tr>\n",
       "    <tr>\n",
       "      <th>113</th>\n",
       "      <td>philip kemp</td>\n",
       "      <td>5</td>\n",
       "      <td>July 6, 2020</td>\n",
       "      <td>Exceptional App</td>\n",
       "      <td>1</td>\n",
       "      <td>Tablet</td>\n",
       "      <td>philip kemp</td>\n",
       "      <td>1.3.4</td>\n",
       "      <td>POSITIVE</td>\n",
       "      <td>0.998577</td>\n",
       "      <td>Exceptional App</td>\n",
       "      <td>f83a6006-9031-4ad4-a6d7-add0317d6101</td>\n",
       "    </tr>\n",
       "    <tr>\n",
       "      <th>114</th>\n",
       "      <td>A Google user</td>\n",
       "      <td>5</td>\n",
       "      <td>June 25, 2019</td>\n",
       "      <td>I'm well impressed with this teaching aid and ...</td>\n",
       "      <td>5</td>\n",
       "      <td>Tablet</td>\n",
       "      <td>A Google user</td>\n",
       "      <td>1.1.3</td>\n",
       "      <td>POSITIVE</td>\n",
       "      <td>0.998935</td>\n",
       "      <td>I'm well impressed with this teaching aid and ...</td>\n",
       "      <td>6b11fd87-3b4f-4a57-801b-cb1c9606772e</td>\n",
       "    </tr>\n",
       "  </tbody>\n",
       "</table>\n",
       "<p>103 rows × 12 columns</p>\n",
       "</div>"
      ],
      "text/plain": [
       "                 name  star_rating               date  \\\n",
       "0      jereld camphor            5    August 23, 2020   \n",
       "1          Harrison H            5   October 30, 2020   \n",
       "2            Julio LH            4   December 6, 2024   \n",
       "3       Cecile Perret            5   October 19, 2020   \n",
       "4        Cathy Furman            4  February 19, 2023   \n",
       "..                ...          ...                ...   \n",
       "110  Astro Biological            5      June 24, 2023   \n",
       "111        Thomas Tom            4    August 22, 2021   \n",
       "112     Jason Collins            5    August 11, 2022   \n",
       "113       philip kemp            5       July 6, 2020   \n",
       "114     A Google user            5      June 25, 2019   \n",
       "\n",
       "                                                review people  device  \\\n",
       "0    It is an excellent app. It provides a practica...     79   Phone   \n",
       "1    So far I like the app a lot. It may not look a...    130   Phone   \n",
       "2    A great resource for learning HTML or brushing...   None   Phone   \n",
       "3    I really like this app and its partner apps (c...     40   Phone   \n",
       "4    App works well, some bugs here and there with ...     17   Phone   \n",
       "..                                                 ...    ...     ...   \n",
       "110  This app has been a huge help in my learning j...      1  Tablet   \n",
       "111  Je suis content pour cette app. But how do you...      7  Tablet   \n",
       "112                                Actually quite good   None  Tablet   \n",
       "113                                    Exceptional App      1  Tablet   \n",
       "114  I'm well impressed with this teaching aid and ...      5  Tablet   \n",
       "\n",
       "             userName reviewCreatedVersion sentiment_label  sentiment_score  \\\n",
       "0      jereld camphor                1.3.4        POSITIVE         0.998888   \n",
       "1          Harrison H                1.3.7        POSITIVE         0.998929   \n",
       "2            Julio LH                1.4.4        POSITIVE         0.998741   \n",
       "3       Cecile Perret                1.3.7        POSITIVE         0.998935   \n",
       "4        Cathy Furman                1.4.4        POSITIVE         0.998915   \n",
       "..                ...                  ...             ...              ...   \n",
       "110  Astro Biological                1.4.4        POSITIVE         0.998798   \n",
       "111        Thomas Tom                1.4.1        NEGATIVE         0.998142   \n",
       "112     Jason Collins                1.4.4        POSITIVE         0.998018   \n",
       "113       philip kemp                1.3.4        POSITIVE         0.998577   \n",
       "114     A Google user                1.1.3        POSITIVE         0.998935   \n",
       "\n",
       "                                               content  \\\n",
       "0    It is an excellent app. It provides a practica...   \n",
       "1    So far I like the app a lot. It may not look a...   \n",
       "2    A great resource for learning HTML or brushing...   \n",
       "3    I really like this app and its partner apps (c...   \n",
       "4    App works well, some bugs here and there with ...   \n",
       "..                                                 ...   \n",
       "110  This app has been a huge help in my learning j...   \n",
       "111  Je suis content pour cette app. But how do you...   \n",
       "112                                Actually quite good   \n",
       "113                                    Exceptional App   \n",
       "114  I'm well impressed with this teaching aid and ...   \n",
       "\n",
       "                                 reviewId  \n",
       "0    37ced158-8ab4-47d7-837f-a0aee213fd8c  \n",
       "1    1c03e4e9-c29a-4bdb-aa0e-1360b63842c7  \n",
       "2    27722653-2923-409c-844a-73cfad4e6271  \n",
       "3    f1fc09c7-b3c1-46fa-833b-ba07d2f67eb6  \n",
       "4    c06a6a0b-0a83-427c-bf67-6b981a4b8589  \n",
       "..                                    ...  \n",
       "110  98489830-c94c-4e4b-935a-afc959ce6863  \n",
       "111  4bc2334c-3aac-433f-8e35-9c2a5fe8c71d  \n",
       "112  2c6c699d-3fe1-44c9-b31f-0c6dee8d2566  \n",
       "113  f83a6006-9031-4ad4-a6d7-add0317d6101  \n",
       "114  6b11fd87-3b4f-4a57-801b-cb1c9606772e  \n",
       "\n",
       "[103 rows x 12 columns]"
      ]
     },
     "execution_count": 25,
     "metadata": {},
     "output_type": "execute_result"
    }
   ],
   "source": [
    "# drop all the duplicated rows\n",
    "df_clean.drop(index=d_index, inplace = True)\n",
    "# test\n",
    "df_clean"
   ]
  },
  {
   "cell_type": "markdown",
   "id": "46064f7a",
   "metadata": {},
   "source": [
    "### Quality Issue 2: Duplicated Columns"
   ]
  },
  {
   "cell_type": "markdown",
   "id": "dbbb5ea4",
   "metadata": {},
   "source": [
    "#### Code:"
   ]
  },
  {
   "cell_type": "code",
   "execution_count": 26,
   "id": "06819da2",
   "metadata": {},
   "outputs": [],
   "source": [
    "# drop duplicate columns\n",
    "df_clean.drop(['userName','content'], axis=1, inplace=True)"
   ]
  },
  {
   "cell_type": "markdown",
   "id": "c1c0a436",
   "metadata": {},
   "source": [
    "#### Test:"
   ]
  },
  {
   "cell_type": "code",
   "execution_count": 27,
   "id": "5a61bccd",
   "metadata": {},
   "outputs": [
    {
     "data": {
      "text/html": [
       "<div>\n",
       "<style scoped>\n",
       "    .dataframe tbody tr th:only-of-type {\n",
       "        vertical-align: middle;\n",
       "    }\n",
       "\n",
       "    .dataframe tbody tr th {\n",
       "        vertical-align: top;\n",
       "    }\n",
       "\n",
       "    .dataframe thead th {\n",
       "        text-align: right;\n",
       "    }\n",
       "</style>\n",
       "<table border=\"1\" class=\"dataframe\">\n",
       "  <thead>\n",
       "    <tr style=\"text-align: right;\">\n",
       "      <th></th>\n",
       "      <th>name</th>\n",
       "      <th>star_rating</th>\n",
       "      <th>date</th>\n",
       "      <th>review</th>\n",
       "      <th>people</th>\n",
       "      <th>device</th>\n",
       "      <th>reviewCreatedVersion</th>\n",
       "      <th>sentiment_label</th>\n",
       "      <th>sentiment_score</th>\n",
       "      <th>reviewId</th>\n",
       "    </tr>\n",
       "  </thead>\n",
       "  <tbody>\n",
       "    <tr>\n",
       "      <th>0</th>\n",
       "      <td>jereld camphor</td>\n",
       "      <td>5</td>\n",
       "      <td>August 23, 2020</td>\n",
       "      <td>It is an excellent app. It provides a practica...</td>\n",
       "      <td>79</td>\n",
       "      <td>Phone</td>\n",
       "      <td>1.3.4</td>\n",
       "      <td>POSITIVE</td>\n",
       "      <td>0.998888</td>\n",
       "      <td>37ced158-8ab4-47d7-837f-a0aee213fd8c</td>\n",
       "    </tr>\n",
       "    <tr>\n",
       "      <th>1</th>\n",
       "      <td>Harrison H</td>\n",
       "      <td>5</td>\n",
       "      <td>October 30, 2020</td>\n",
       "      <td>So far I like the app a lot. It may not look a...</td>\n",
       "      <td>130</td>\n",
       "      <td>Phone</td>\n",
       "      <td>1.3.7</td>\n",
       "      <td>POSITIVE</td>\n",
       "      <td>0.998929</td>\n",
       "      <td>1c03e4e9-c29a-4bdb-aa0e-1360b63842c7</td>\n",
       "    </tr>\n",
       "    <tr>\n",
       "      <th>2</th>\n",
       "      <td>Julio LH</td>\n",
       "      <td>4</td>\n",
       "      <td>December 6, 2024</td>\n",
       "      <td>A great resource for learning HTML or brushing...</td>\n",
       "      <td>None</td>\n",
       "      <td>Phone</td>\n",
       "      <td>1.4.4</td>\n",
       "      <td>POSITIVE</td>\n",
       "      <td>0.998741</td>\n",
       "      <td>27722653-2923-409c-844a-73cfad4e6271</td>\n",
       "    </tr>\n",
       "    <tr>\n",
       "      <th>3</th>\n",
       "      <td>Cecile Perret</td>\n",
       "      <td>5</td>\n",
       "      <td>October 19, 2020</td>\n",
       "      <td>I really like this app and its partner apps (c...</td>\n",
       "      <td>40</td>\n",
       "      <td>Phone</td>\n",
       "      <td>1.3.7</td>\n",
       "      <td>POSITIVE</td>\n",
       "      <td>0.998935</td>\n",
       "      <td>f1fc09c7-b3c1-46fa-833b-ba07d2f67eb6</td>\n",
       "    </tr>\n",
       "    <tr>\n",
       "      <th>4</th>\n",
       "      <td>Cathy Furman</td>\n",
       "      <td>4</td>\n",
       "      <td>February 19, 2023</td>\n",
       "      <td>App works well, some bugs here and there with ...</td>\n",
       "      <td>17</td>\n",
       "      <td>Phone</td>\n",
       "      <td>1.4.4</td>\n",
       "      <td>POSITIVE</td>\n",
       "      <td>0.998915</td>\n",
       "      <td>c06a6a0b-0a83-427c-bf67-6b981a4b8589</td>\n",
       "    </tr>\n",
       "  </tbody>\n",
       "</table>\n",
       "</div>"
      ],
      "text/plain": [
       "             name  star_rating               date  \\\n",
       "0  jereld camphor            5    August 23, 2020   \n",
       "1      Harrison H            5   October 30, 2020   \n",
       "2        Julio LH            4   December 6, 2024   \n",
       "3   Cecile Perret            5   October 19, 2020   \n",
       "4    Cathy Furman            4  February 19, 2023   \n",
       "\n",
       "                                              review people device  \\\n",
       "0  It is an excellent app. It provides a practica...     79  Phone   \n",
       "1  So far I like the app a lot. It may not look a...    130  Phone   \n",
       "2  A great resource for learning HTML or brushing...   None  Phone   \n",
       "3  I really like this app and its partner apps (c...     40  Phone   \n",
       "4  App works well, some bugs here and there with ...     17  Phone   \n",
       "\n",
       "  reviewCreatedVersion sentiment_label  sentiment_score  \\\n",
       "0                1.3.4        POSITIVE         0.998888   \n",
       "1                1.3.7        POSITIVE         0.998929   \n",
       "2                1.4.4        POSITIVE         0.998741   \n",
       "3                1.3.7        POSITIVE         0.998935   \n",
       "4                1.4.4        POSITIVE         0.998915   \n",
       "\n",
       "                               reviewId  \n",
       "0  37ced158-8ab4-47d7-837f-a0aee213fd8c  \n",
       "1  1c03e4e9-c29a-4bdb-aa0e-1360b63842c7  \n",
       "2  27722653-2923-409c-844a-73cfad4e6271  \n",
       "3  f1fc09c7-b3c1-46fa-833b-ba07d2f67eb6  \n",
       "4  c06a6a0b-0a83-427c-bf67-6b981a4b8589  "
      ]
     },
     "execution_count": 27,
     "metadata": {},
     "output_type": "execute_result"
    }
   ],
   "source": [
    "df_clean.head(5)"
   ]
  },
  {
   "cell_type": "markdown",
   "id": "e4c92ddc",
   "metadata": {},
   "source": [
    "### Quality Issue 3: Unrefined column names and spelling"
   ]
  },
  {
   "cell_type": "markdown",
   "id": "4529e713",
   "metadata": {},
   "source": [
    "#### Code:"
   ]
  },
  {
   "cell_type": "code",
   "execution_count": 28,
   "id": "ccbb3e43",
   "metadata": {},
   "outputs": [],
   "source": [
    "# rename old column names with pandas `rename` method\n",
    "df_clean.rename(columns={'name':'username', 'review':'review_content','people':'thumbsup','reviewCreatedVersion':'app_version','reviewId':'review_id'}, inplace = True)"
   ]
  },
  {
   "cell_type": "markdown",
   "id": "39e40358",
   "metadata": {},
   "source": [
    "#### Test"
   ]
  },
  {
   "cell_type": "code",
   "execution_count": 29,
   "id": "522912dd",
   "metadata": {},
   "outputs": [
    {
     "data": {
      "text/html": [
       "<div>\n",
       "<style scoped>\n",
       "    .dataframe tbody tr th:only-of-type {\n",
       "        vertical-align: middle;\n",
       "    }\n",
       "\n",
       "    .dataframe tbody tr th {\n",
       "        vertical-align: top;\n",
       "    }\n",
       "\n",
       "    .dataframe thead th {\n",
       "        text-align: right;\n",
       "    }\n",
       "</style>\n",
       "<table border=\"1\" class=\"dataframe\">\n",
       "  <thead>\n",
       "    <tr style=\"text-align: right;\">\n",
       "      <th></th>\n",
       "      <th>username</th>\n",
       "      <th>star_rating</th>\n",
       "      <th>date</th>\n",
       "      <th>review_content</th>\n",
       "      <th>thumbsup</th>\n",
       "      <th>device</th>\n",
       "      <th>app_version</th>\n",
       "      <th>sentiment_label</th>\n",
       "      <th>sentiment_score</th>\n",
       "      <th>review_id</th>\n",
       "    </tr>\n",
       "  </thead>\n",
       "  <tbody>\n",
       "    <tr>\n",
       "      <th>0</th>\n",
       "      <td>jereld camphor</td>\n",
       "      <td>5</td>\n",
       "      <td>August 23, 2020</td>\n",
       "      <td>It is an excellent app. It provides a practica...</td>\n",
       "      <td>79</td>\n",
       "      <td>Phone</td>\n",
       "      <td>1.3.4</td>\n",
       "      <td>POSITIVE</td>\n",
       "      <td>0.998888</td>\n",
       "      <td>37ced158-8ab4-47d7-837f-a0aee213fd8c</td>\n",
       "    </tr>\n",
       "    <tr>\n",
       "      <th>1</th>\n",
       "      <td>Harrison H</td>\n",
       "      <td>5</td>\n",
       "      <td>October 30, 2020</td>\n",
       "      <td>So far I like the app a lot. It may not look a...</td>\n",
       "      <td>130</td>\n",
       "      <td>Phone</td>\n",
       "      <td>1.3.7</td>\n",
       "      <td>POSITIVE</td>\n",
       "      <td>0.998929</td>\n",
       "      <td>1c03e4e9-c29a-4bdb-aa0e-1360b63842c7</td>\n",
       "    </tr>\n",
       "    <tr>\n",
       "      <th>2</th>\n",
       "      <td>Julio LH</td>\n",
       "      <td>4</td>\n",
       "      <td>December 6, 2024</td>\n",
       "      <td>A great resource for learning HTML or brushing...</td>\n",
       "      <td>None</td>\n",
       "      <td>Phone</td>\n",
       "      <td>1.4.4</td>\n",
       "      <td>POSITIVE</td>\n",
       "      <td>0.998741</td>\n",
       "      <td>27722653-2923-409c-844a-73cfad4e6271</td>\n",
       "    </tr>\n",
       "    <tr>\n",
       "      <th>3</th>\n",
       "      <td>Cecile Perret</td>\n",
       "      <td>5</td>\n",
       "      <td>October 19, 2020</td>\n",
       "      <td>I really like this app and its partner apps (c...</td>\n",
       "      <td>40</td>\n",
       "      <td>Phone</td>\n",
       "      <td>1.3.7</td>\n",
       "      <td>POSITIVE</td>\n",
       "      <td>0.998935</td>\n",
       "      <td>f1fc09c7-b3c1-46fa-833b-ba07d2f67eb6</td>\n",
       "    </tr>\n",
       "    <tr>\n",
       "      <th>4</th>\n",
       "      <td>Cathy Furman</td>\n",
       "      <td>4</td>\n",
       "      <td>February 19, 2023</td>\n",
       "      <td>App works well, some bugs here and there with ...</td>\n",
       "      <td>17</td>\n",
       "      <td>Phone</td>\n",
       "      <td>1.4.4</td>\n",
       "      <td>POSITIVE</td>\n",
       "      <td>0.998915</td>\n",
       "      <td>c06a6a0b-0a83-427c-bf67-6b981a4b8589</td>\n",
       "    </tr>\n",
       "  </tbody>\n",
       "</table>\n",
       "</div>"
      ],
      "text/plain": [
       "         username  star_rating               date  \\\n",
       "0  jereld camphor            5    August 23, 2020   \n",
       "1      Harrison H            5   October 30, 2020   \n",
       "2        Julio LH            4   December 6, 2024   \n",
       "3   Cecile Perret            5   October 19, 2020   \n",
       "4    Cathy Furman            4  February 19, 2023   \n",
       "\n",
       "                                      review_content thumbsup device  \\\n",
       "0  It is an excellent app. It provides a practica...       79  Phone   \n",
       "1  So far I like the app a lot. It may not look a...      130  Phone   \n",
       "2  A great resource for learning HTML or brushing...     None  Phone   \n",
       "3  I really like this app and its partner apps (c...       40  Phone   \n",
       "4  App works well, some bugs here and there with ...       17  Phone   \n",
       "\n",
       "  app_version sentiment_label  sentiment_score  \\\n",
       "0       1.3.4        POSITIVE         0.998888   \n",
       "1       1.3.7        POSITIVE         0.998929   \n",
       "2       1.4.4        POSITIVE         0.998741   \n",
       "3       1.3.7        POSITIVE         0.998935   \n",
       "4       1.4.4        POSITIVE         0.998915   \n",
       "\n",
       "                              review_id  \n",
       "0  37ced158-8ab4-47d7-837f-a0aee213fd8c  \n",
       "1  1c03e4e9-c29a-4bdb-aa0e-1360b63842c7  \n",
       "2  27722653-2923-409c-844a-73cfad4e6271  \n",
       "3  f1fc09c7-b3c1-46fa-833b-ba07d2f67eb6  \n",
       "4  c06a6a0b-0a83-427c-bf67-6b981a4b8589  "
      ]
     },
     "execution_count": 29,
     "metadata": {},
     "output_type": "execute_result"
    }
   ],
   "source": [
    "df_clean.head(5)"
   ]
  },
  {
   "cell_type": "markdown",
   "id": "5d94ebc2",
   "metadata": {},
   "source": [
    "### Quality Issue 4: Capitalized values in column `sentiment_label`"
   ]
  },
  {
   "cell_type": "markdown",
   "id": "61828983",
   "metadata": {},
   "source": [
    "#### Code:"
   ]
  },
  {
   "cell_type": "code",
   "execution_count": 30,
   "id": "9bb70df1",
   "metadata": {},
   "outputs": [],
   "source": [
    "# set sentiment labels to all lower case\n",
    "df_clean['sentiment_label'] = df_clean['sentiment_label'].apply(lambda x: (x.lower()))"
   ]
  },
  {
   "cell_type": "markdown",
   "id": "e6a4da88",
   "metadata": {},
   "source": [
    "#### Test:"
   ]
  },
  {
   "cell_type": "code",
   "execution_count": 31,
   "id": "0e373f57",
   "metadata": {},
   "outputs": [
    {
     "data": {
      "text/html": [
       "<div>\n",
       "<style scoped>\n",
       "    .dataframe tbody tr th:only-of-type {\n",
       "        vertical-align: middle;\n",
       "    }\n",
       "\n",
       "    .dataframe tbody tr th {\n",
       "        vertical-align: top;\n",
       "    }\n",
       "\n",
       "    .dataframe thead th {\n",
       "        text-align: right;\n",
       "    }\n",
       "</style>\n",
       "<table border=\"1\" class=\"dataframe\">\n",
       "  <thead>\n",
       "    <tr style=\"text-align: right;\">\n",
       "      <th></th>\n",
       "      <th>username</th>\n",
       "      <th>star_rating</th>\n",
       "      <th>date</th>\n",
       "      <th>review_content</th>\n",
       "      <th>thumbsup</th>\n",
       "      <th>device</th>\n",
       "      <th>app_version</th>\n",
       "      <th>sentiment_label</th>\n",
       "      <th>sentiment_score</th>\n",
       "      <th>review_id</th>\n",
       "    </tr>\n",
       "  </thead>\n",
       "  <tbody>\n",
       "    <tr>\n",
       "      <th>62</th>\n",
       "      <td>Ellis Franklin Jr</td>\n",
       "      <td>5</td>\n",
       "      <td>August 9, 2022</td>\n",
       "      <td>Great way to learn.</td>\n",
       "      <td>None</td>\n",
       "      <td>Phone</td>\n",
       "      <td>1.4.1</td>\n",
       "      <td>positive</td>\n",
       "      <td>0.998795</td>\n",
       "      <td>86b62a05-82f2-4743-b204-98ffdfd554e0</td>\n",
       "    </tr>\n",
       "    <tr>\n",
       "      <th>111</th>\n",
       "      <td>Thomas Tom</td>\n",
       "      <td>4</td>\n",
       "      <td>August 22, 2021</td>\n",
       "      <td>Je suis content pour cette app. But how do you...</td>\n",
       "      <td>7</td>\n",
       "      <td>Tablet</td>\n",
       "      <td>1.4.1</td>\n",
       "      <td>negative</td>\n",
       "      <td>0.998142</td>\n",
       "      <td>4bc2334c-3aac-433f-8e35-9c2a5fe8c71d</td>\n",
       "    </tr>\n",
       "    <tr>\n",
       "      <th>15</th>\n",
       "      <td>Terrell Grissett</td>\n",
       "      <td>5</td>\n",
       "      <td>February 18, 2022</td>\n",
       "      <td>I feel like it's definitely helping my learnin...</td>\n",
       "      <td>7</td>\n",
       "      <td>Phone</td>\n",
       "      <td>1.4.1</td>\n",
       "      <td>positive</td>\n",
       "      <td>0.998912</td>\n",
       "      <td>dbb43968-2b24-4936-a876-46f259ebef9b</td>\n",
       "    </tr>\n",
       "    <tr>\n",
       "      <th>20</th>\n",
       "      <td>A Google user</td>\n",
       "      <td>5</td>\n",
       "      <td>December 30, 2018</td>\n",
       "      <td>Best app to learn HTML. I love the Try It Your...</td>\n",
       "      <td>9</td>\n",
       "      <td>Phone</td>\n",
       "      <td>1.0.3</td>\n",
       "      <td>positive</td>\n",
       "      <td>0.998890</td>\n",
       "      <td>3885a94a-c68a-47cc-970f-5a8a34128e64</td>\n",
       "    </tr>\n",
       "    <tr>\n",
       "      <th>58</th>\n",
       "      <td>jonathan ndawula</td>\n",
       "      <td>5</td>\n",
       "      <td>June 26, 2021</td>\n",
       "      <td>Amazing app to build coding skill</td>\n",
       "      <td>4</td>\n",
       "      <td>Phone</td>\n",
       "      <td>1.4.1</td>\n",
       "      <td>positive</td>\n",
       "      <td>0.998862</td>\n",
       "      <td>c05e5709-70f7-4fbb-8b61-485c78ee27d8</td>\n",
       "    </tr>\n",
       "  </tbody>\n",
       "</table>\n",
       "</div>"
      ],
      "text/plain": [
       "              username  star_rating               date  \\\n",
       "62   Ellis Franklin Jr            5     August 9, 2022   \n",
       "111         Thomas Tom            4    August 22, 2021   \n",
       "15    Terrell Grissett            5  February 18, 2022   \n",
       "20       A Google user            5  December 30, 2018   \n",
       "58    jonathan ndawula            5      June 26, 2021   \n",
       "\n",
       "                                        review_content thumbsup  device  \\\n",
       "62                                 Great way to learn.     None   Phone   \n",
       "111  Je suis content pour cette app. But how do you...        7  Tablet   \n",
       "15   I feel like it's definitely helping my learnin...        7   Phone   \n",
       "20   Best app to learn HTML. I love the Try It Your...        9   Phone   \n",
       "58                   Amazing app to build coding skill        4   Phone   \n",
       "\n",
       "    app_version sentiment_label  sentiment_score  \\\n",
       "62        1.4.1        positive         0.998795   \n",
       "111       1.4.1        negative         0.998142   \n",
       "15        1.4.1        positive         0.998912   \n",
       "20        1.0.3        positive         0.998890   \n",
       "58        1.4.1        positive         0.998862   \n",
       "\n",
       "                                review_id  \n",
       "62   86b62a05-82f2-4743-b204-98ffdfd554e0  \n",
       "111  4bc2334c-3aac-433f-8e35-9c2a5fe8c71d  \n",
       "15   dbb43968-2b24-4936-a876-46f259ebef9b  \n",
       "20   3885a94a-c68a-47cc-970f-5a8a34128e64  \n",
       "58   c05e5709-70f7-4fbb-8b61-485c78ee27d8  "
      ]
     },
     "execution_count": 31,
     "metadata": {},
     "output_type": "execute_result"
    }
   ],
   "source": [
    "df_clean.sample(5)"
   ]
  },
  {
   "cell_type": "markdown",
   "id": "f4044223",
   "metadata": {},
   "source": [
    "### Quality Issue 5: Inconsistent word case of `username` values"
   ]
  },
  {
   "cell_type": "markdown",
   "id": "f8a8df64",
   "metadata": {},
   "source": [
    "#### Code:"
   ]
  },
  {
   "cell_type": "code",
   "execution_count": 32,
   "id": "6dcb49c6",
   "metadata": {},
   "outputs": [],
   "source": [
    "# set usernames to title case\n",
    "df_clean['username'] = df_clean['username'].apply(lambda x: (x.title()))"
   ]
  },
  {
   "cell_type": "markdown",
   "id": "fb4e3d7f",
   "metadata": {},
   "source": [
    "#### Test:"
   ]
  },
  {
   "cell_type": "code",
   "execution_count": 33,
   "id": "20a4cef5",
   "metadata": {},
   "outputs": [
    {
     "data": {
      "text/html": [
       "<div>\n",
       "<style scoped>\n",
       "    .dataframe tbody tr th:only-of-type {\n",
       "        vertical-align: middle;\n",
       "    }\n",
       "\n",
       "    .dataframe tbody tr th {\n",
       "        vertical-align: top;\n",
       "    }\n",
       "\n",
       "    .dataframe thead th {\n",
       "        text-align: right;\n",
       "    }\n",
       "</style>\n",
       "<table border=\"1\" class=\"dataframe\">\n",
       "  <thead>\n",
       "    <tr style=\"text-align: right;\">\n",
       "      <th></th>\n",
       "      <th>username</th>\n",
       "      <th>star_rating</th>\n",
       "      <th>date</th>\n",
       "      <th>review_content</th>\n",
       "      <th>thumbsup</th>\n",
       "      <th>device</th>\n",
       "      <th>app_version</th>\n",
       "      <th>sentiment_label</th>\n",
       "      <th>sentiment_score</th>\n",
       "      <th>review_id</th>\n",
       "    </tr>\n",
       "  </thead>\n",
       "  <tbody>\n",
       "    <tr>\n",
       "      <th>87</th>\n",
       "      <td>Darko</td>\n",
       "      <td>5</td>\n",
       "      <td>November 9, 2021</td>\n",
       "      <td>Super</td>\n",
       "      <td>None</td>\n",
       "      <td>Phone</td>\n",
       "      <td>1.4.1</td>\n",
       "      <td>positive</td>\n",
       "      <td>0.998575</td>\n",
       "      <td>6a1b37ac-4a21-454f-8cdf-a25c409c90c7</td>\n",
       "    </tr>\n",
       "    <tr>\n",
       "      <th>79</th>\n",
       "      <td>Zitro</td>\n",
       "      <td>5</td>\n",
       "      <td>May 11, 2023</td>\n",
       "      <td>Great app</td>\n",
       "      <td>None</td>\n",
       "      <td>Phone</td>\n",
       "      <td>1.4.4</td>\n",
       "      <td>positive</td>\n",
       "      <td>0.998703</td>\n",
       "      <td>edcb0805-d6b4-4b21-b2f2-1695f0c50742</td>\n",
       "    </tr>\n",
       "    <tr>\n",
       "      <th>10</th>\n",
       "      <td>Mckinley Abiera</td>\n",
       "      <td>5</td>\n",
       "      <td>September 3, 2021</td>\n",
       "      <td>It's very nice app that's really helps users t...</td>\n",
       "      <td>17</td>\n",
       "      <td>Phone</td>\n",
       "      <td>1.4.1</td>\n",
       "      <td>positive</td>\n",
       "      <td>0.998926</td>\n",
       "      <td>cebb35e6-929d-4823-93e9-6fb8ed2a8579</td>\n",
       "    </tr>\n",
       "    <tr>\n",
       "      <th>57</th>\n",
       "      <td>Brian P. Morrissey</td>\n",
       "      <td>5</td>\n",
       "      <td>February 24, 2021</td>\n",
       "      <td>Free app so 5 stars (so far)</td>\n",
       "      <td>1</td>\n",
       "      <td>Phone</td>\n",
       "      <td>1.3.9</td>\n",
       "      <td>positive</td>\n",
       "      <td>0.998601</td>\n",
       "      <td>79f81c3a-def8-4096-b33b-6cde696b2709</td>\n",
       "    </tr>\n",
       "    <tr>\n",
       "      <th>36</th>\n",
       "      <td>Olawale Oludare</td>\n",
       "      <td>5</td>\n",
       "      <td>July 8, 2020</td>\n",
       "      <td>One of the best i've ever seen. It made progra...</td>\n",
       "      <td>8</td>\n",
       "      <td>Phone</td>\n",
       "      <td>1.3.4</td>\n",
       "      <td>positive</td>\n",
       "      <td>0.998849</td>\n",
       "      <td>f360a0ca-5bc5-43a0-81a0-0e595e9176a1</td>\n",
       "    </tr>\n",
       "  </tbody>\n",
       "</table>\n",
       "</div>"
      ],
      "text/plain": [
       "              username  star_rating               date  \\\n",
       "87               Darko            5   November 9, 2021   \n",
       "79               Zitro            5       May 11, 2023   \n",
       "10     Mckinley Abiera            5  September 3, 2021   \n",
       "57  Brian P. Morrissey            5  February 24, 2021   \n",
       "36     Olawale Oludare            5       July 8, 2020   \n",
       "\n",
       "                                       review_content thumbsup device  \\\n",
       "87                                              Super     None  Phone   \n",
       "79                                          Great app     None  Phone   \n",
       "10  It's very nice app that's really helps users t...       17  Phone   \n",
       "57                       Free app so 5 stars (so far)        1  Phone   \n",
       "36  One of the best i've ever seen. It made progra...        8  Phone   \n",
       "\n",
       "   app_version sentiment_label  sentiment_score  \\\n",
       "87       1.4.1        positive         0.998575   \n",
       "79       1.4.4        positive         0.998703   \n",
       "10       1.4.1        positive         0.998926   \n",
       "57       1.3.9        positive         0.998601   \n",
       "36       1.3.4        positive         0.998849   \n",
       "\n",
       "                               review_id  \n",
       "87  6a1b37ac-4a21-454f-8cdf-a25c409c90c7  \n",
       "79  edcb0805-d6b4-4b21-b2f2-1695f0c50742  \n",
       "10  cebb35e6-929d-4823-93e9-6fb8ed2a8579  \n",
       "57  79f81c3a-def8-4096-b33b-6cde696b2709  \n",
       "36  f360a0ca-5bc5-43a0-81a0-0e595e9176a1  "
      ]
     },
     "execution_count": 33,
     "metadata": {},
     "output_type": "execute_result"
    }
   ],
   "source": [
    "df_clean.sample(5)"
   ]
  },
  {
   "cell_type": "markdown",
   "id": "d215571b",
   "metadata": {},
   "source": [
    "### Quality Issue 6: `None` instead of `NaN` for missing `thumbsup` data"
   ]
  },
  {
   "cell_type": "markdown",
   "id": "a49edad2",
   "metadata": {},
   "source": [
    "#### Code:"
   ]
  },
  {
   "cell_type": "code",
   "execution_count": 34,
   "id": "f2b832a9",
   "metadata": {},
   "outputs": [],
   "source": [
    "# replace 'None' with Numpy nan\n",
    "df_clean['thumbsup'] = df_clean['thumbsup'].replace({'None':np.nan})"
   ]
  },
  {
   "cell_type": "markdown",
   "id": "098fe057",
   "metadata": {},
   "source": [
    "#### Test:"
   ]
  },
  {
   "cell_type": "code",
   "execution_count": 35,
   "id": "d4d28a5d",
   "metadata": {
    "scrolled": true
   },
   "outputs": [
    {
     "data": {
      "text/html": [
       "<div>\n",
       "<style scoped>\n",
       "    .dataframe tbody tr th:only-of-type {\n",
       "        vertical-align: middle;\n",
       "    }\n",
       "\n",
       "    .dataframe tbody tr th {\n",
       "        vertical-align: top;\n",
       "    }\n",
       "\n",
       "    .dataframe thead th {\n",
       "        text-align: right;\n",
       "    }\n",
       "</style>\n",
       "<table border=\"1\" class=\"dataframe\">\n",
       "  <thead>\n",
       "    <tr style=\"text-align: right;\">\n",
       "      <th></th>\n",
       "      <th>username</th>\n",
       "      <th>star_rating</th>\n",
       "      <th>date</th>\n",
       "      <th>review_content</th>\n",
       "      <th>thumbsup</th>\n",
       "      <th>device</th>\n",
       "      <th>app_version</th>\n",
       "      <th>sentiment_label</th>\n",
       "      <th>sentiment_score</th>\n",
       "      <th>review_id</th>\n",
       "    </tr>\n",
       "  </thead>\n",
       "  <tbody>\n",
       "    <tr>\n",
       "      <th>12</th>\n",
       "      <td>Michael “Lonewulf3457” Barske</td>\n",
       "      <td>5</td>\n",
       "      <td>January 16, 2023</td>\n",
       "      <td>A wealth of knowledge at either no cost or an ...</td>\n",
       "      <td>2</td>\n",
       "      <td>Phone</td>\n",
       "      <td>1.4.4</td>\n",
       "      <td>positive</td>\n",
       "      <td>0.998864</td>\n",
       "      <td>83340411-4553-4b6b-b217-bf78a2f0772e</td>\n",
       "    </tr>\n",
       "    <tr>\n",
       "      <th>36</th>\n",
       "      <td>Olawale Oludare</td>\n",
       "      <td>5</td>\n",
       "      <td>July 8, 2020</td>\n",
       "      <td>One of the best i've ever seen. It made progra...</td>\n",
       "      <td>8</td>\n",
       "      <td>Phone</td>\n",
       "      <td>1.3.4</td>\n",
       "      <td>positive</td>\n",
       "      <td>0.998849</td>\n",
       "      <td>f360a0ca-5bc5-43a0-81a0-0e595e9176a1</td>\n",
       "    </tr>\n",
       "    <tr>\n",
       "      <th>69</th>\n",
       "      <td>Sophanit Ret</td>\n",
       "      <td>5</td>\n",
       "      <td>March 28, 2021</td>\n",
       "      <td>I love this app so much 💞😻</td>\n",
       "      <td>1</td>\n",
       "      <td>Phone</td>\n",
       "      <td>1.3.9</td>\n",
       "      <td>positive</td>\n",
       "      <td>0.998874</td>\n",
       "      <td>28412a65-388b-4e2b-a911-a8270466e103</td>\n",
       "    </tr>\n",
       "    <tr>\n",
       "      <th>3</th>\n",
       "      <td>Cecile Perret</td>\n",
       "      <td>5</td>\n",
       "      <td>October 19, 2020</td>\n",
       "      <td>I really like this app and its partner apps (c...</td>\n",
       "      <td>40</td>\n",
       "      <td>Phone</td>\n",
       "      <td>1.3.7</td>\n",
       "      <td>positive</td>\n",
       "      <td>0.998935</td>\n",
       "      <td>f1fc09c7-b3c1-46fa-833b-ba07d2f67eb6</td>\n",
       "    </tr>\n",
       "    <tr>\n",
       "      <th>40</th>\n",
       "      <td>F Twn</td>\n",
       "      <td>4</td>\n",
       "      <td>September 24, 2023</td>\n",
       "      <td>Very nice app worth the pro premium price</td>\n",
       "      <td>1</td>\n",
       "      <td>Phone</td>\n",
       "      <td>NaN</td>\n",
       "      <td>positive</td>\n",
       "      <td>0.998866</td>\n",
       "      <td>b0320d58-0932-4210-b6bf-b60e176d3a58</td>\n",
       "    </tr>\n",
       "  </tbody>\n",
       "</table>\n",
       "</div>"
      ],
      "text/plain": [
       "                         username  star_rating                date  \\\n",
       "12  Michael “Lonewulf3457” Barske            5    January 16, 2023   \n",
       "36                Olawale Oludare            5        July 8, 2020   \n",
       "69                   Sophanit Ret            5      March 28, 2021   \n",
       "3                   Cecile Perret            5    October 19, 2020   \n",
       "40                          F Twn            4  September 24, 2023   \n",
       "\n",
       "                                       review_content thumbsup device  \\\n",
       "12  A wealth of knowledge at either no cost or an ...        2  Phone   \n",
       "36  One of the best i've ever seen. It made progra...        8  Phone   \n",
       "69                         I love this app so much 💞😻        1  Phone   \n",
       "3   I really like this app and its partner apps (c...       40  Phone   \n",
       "40          Very nice app worth the pro premium price        1  Phone   \n",
       "\n",
       "   app_version sentiment_label  sentiment_score  \\\n",
       "12       1.4.4        positive         0.998864   \n",
       "36       1.3.4        positive         0.998849   \n",
       "69       1.3.9        positive         0.998874   \n",
       "3        1.3.7        positive         0.998935   \n",
       "40         NaN        positive         0.998866   \n",
       "\n",
       "                               review_id  \n",
       "12  83340411-4553-4b6b-b217-bf78a2f0772e  \n",
       "36  f360a0ca-5bc5-43a0-81a0-0e595e9176a1  \n",
       "69  28412a65-388b-4e2b-a911-a8270466e103  \n",
       "3   f1fc09c7-b3c1-46fa-833b-ba07d2f67eb6  \n",
       "40  b0320d58-0932-4210-b6bf-b60e176d3a58  "
      ]
     },
     "execution_count": 35,
     "metadata": {},
     "output_type": "execute_result"
    }
   ],
   "source": [
    "df_clean.sample(5)"
   ]
  },
  {
   "cell_type": "code",
   "execution_count": 36,
   "id": "c869cda3",
   "metadata": {},
   "outputs": [
    {
     "data": {
      "text/plain": [
       "41"
      ]
     },
     "execution_count": 36,
     "metadata": {},
     "output_type": "execute_result"
    }
   ],
   "source": [
    "df_clean['thumbsup'].isna().sum()"
   ]
  },
  {
   "cell_type": "markdown",
   "id": "b4556665",
   "metadata": {},
   "source": [
    "### Quality Issue 7: `date` column is not a `datetime` datatype"
   ]
  },
  {
   "cell_type": "markdown",
   "id": "5616a2b3",
   "metadata": {},
   "source": [
    "#### Code:"
   ]
  },
  {
   "cell_type": "code",
   "execution_count": 37,
   "id": "e1a1c7ce",
   "metadata": {},
   "outputs": [],
   "source": [
    "# set to `datetime` format\n",
    "df_clean['date'] = pd.to_datetime(df_clean['date'])"
   ]
  },
  {
   "cell_type": "markdown",
   "id": "d339732d",
   "metadata": {},
   "source": [
    "#### Test:"
   ]
  },
  {
   "cell_type": "code",
   "execution_count": 38,
   "id": "e46698f6",
   "metadata": {},
   "outputs": [
    {
     "name": "stdout",
     "output_type": "stream",
     "text": [
      "<class 'pandas.core.frame.DataFrame'>\n",
      "Int64Index: 103 entries, 0 to 114\n",
      "Data columns (total 10 columns):\n",
      " #   Column           Non-Null Count  Dtype         \n",
      "---  ------           --------------  -----         \n",
      " 0   username         103 non-null    object        \n",
      " 1   star_rating      103 non-null    int64         \n",
      " 2   date             103 non-null    datetime64[ns]\n",
      " 3   review_content   103 non-null    object        \n",
      " 4   thumbsup         62 non-null     object        \n",
      " 5   device           103 non-null    object        \n",
      " 6   app_version      98 non-null     object        \n",
      " 7   sentiment_label  103 non-null    object        \n",
      " 8   sentiment_score  103 non-null    float64       \n",
      " 9   review_id        103 non-null    object        \n",
      "dtypes: datetime64[ns](1), float64(1), int64(1), object(7)\n",
      "memory usage: 8.9+ KB\n"
     ]
    }
   ],
   "source": [
    "df_clean.info()"
   ]
  },
  {
   "cell_type": "code",
   "execution_count": 39,
   "id": "c54e3743",
   "metadata": {
    "scrolled": true
   },
   "outputs": [
    {
     "data": {
      "text/html": [
       "<div>\n",
       "<style scoped>\n",
       "    .dataframe tbody tr th:only-of-type {\n",
       "        vertical-align: middle;\n",
       "    }\n",
       "\n",
       "    .dataframe tbody tr th {\n",
       "        vertical-align: top;\n",
       "    }\n",
       "\n",
       "    .dataframe thead th {\n",
       "        text-align: right;\n",
       "    }\n",
       "</style>\n",
       "<table border=\"1\" class=\"dataframe\">\n",
       "  <thead>\n",
       "    <tr style=\"text-align: right;\">\n",
       "      <th></th>\n",
       "      <th>username</th>\n",
       "      <th>star_rating</th>\n",
       "      <th>date</th>\n",
       "      <th>review_content</th>\n",
       "      <th>thumbsup</th>\n",
       "      <th>device</th>\n",
       "      <th>app_version</th>\n",
       "      <th>sentiment_label</th>\n",
       "      <th>sentiment_score</th>\n",
       "      <th>review_id</th>\n",
       "    </tr>\n",
       "  </thead>\n",
       "  <tbody>\n",
       "    <tr>\n",
       "      <th>0</th>\n",
       "      <td>Jereld Camphor</td>\n",
       "      <td>5</td>\n",
       "      <td>2020-08-23</td>\n",
       "      <td>It is an excellent app. It provides a practica...</td>\n",
       "      <td>79</td>\n",
       "      <td>Phone</td>\n",
       "      <td>1.3.4</td>\n",
       "      <td>positive</td>\n",
       "      <td>0.998888</td>\n",
       "      <td>37ced158-8ab4-47d7-837f-a0aee213fd8c</td>\n",
       "    </tr>\n",
       "    <tr>\n",
       "      <th>1</th>\n",
       "      <td>Harrison H</td>\n",
       "      <td>5</td>\n",
       "      <td>2020-10-30</td>\n",
       "      <td>So far I like the app a lot. It may not look a...</td>\n",
       "      <td>130</td>\n",
       "      <td>Phone</td>\n",
       "      <td>1.3.7</td>\n",
       "      <td>positive</td>\n",
       "      <td>0.998929</td>\n",
       "      <td>1c03e4e9-c29a-4bdb-aa0e-1360b63842c7</td>\n",
       "    </tr>\n",
       "    <tr>\n",
       "      <th>2</th>\n",
       "      <td>Julio Lh</td>\n",
       "      <td>4</td>\n",
       "      <td>2024-12-06</td>\n",
       "      <td>A great resource for learning HTML or brushing...</td>\n",
       "      <td>NaN</td>\n",
       "      <td>Phone</td>\n",
       "      <td>1.4.4</td>\n",
       "      <td>positive</td>\n",
       "      <td>0.998741</td>\n",
       "      <td>27722653-2923-409c-844a-73cfad4e6271</td>\n",
       "    </tr>\n",
       "    <tr>\n",
       "      <th>3</th>\n",
       "      <td>Cecile Perret</td>\n",
       "      <td>5</td>\n",
       "      <td>2020-10-19</td>\n",
       "      <td>I really like this app and its partner apps (c...</td>\n",
       "      <td>40</td>\n",
       "      <td>Phone</td>\n",
       "      <td>1.3.7</td>\n",
       "      <td>positive</td>\n",
       "      <td>0.998935</td>\n",
       "      <td>f1fc09c7-b3c1-46fa-833b-ba07d2f67eb6</td>\n",
       "    </tr>\n",
       "    <tr>\n",
       "      <th>4</th>\n",
       "      <td>Cathy Furman</td>\n",
       "      <td>4</td>\n",
       "      <td>2023-02-19</td>\n",
       "      <td>App works well, some bugs here and there with ...</td>\n",
       "      <td>17</td>\n",
       "      <td>Phone</td>\n",
       "      <td>1.4.4</td>\n",
       "      <td>positive</td>\n",
       "      <td>0.998915</td>\n",
       "      <td>c06a6a0b-0a83-427c-bf67-6b981a4b8589</td>\n",
       "    </tr>\n",
       "  </tbody>\n",
       "</table>\n",
       "</div>"
      ],
      "text/plain": [
       "         username  star_rating       date  \\\n",
       "0  Jereld Camphor            5 2020-08-23   \n",
       "1      Harrison H            5 2020-10-30   \n",
       "2        Julio Lh            4 2024-12-06   \n",
       "3   Cecile Perret            5 2020-10-19   \n",
       "4    Cathy Furman            4 2023-02-19   \n",
       "\n",
       "                                      review_content thumbsup device  \\\n",
       "0  It is an excellent app. It provides a practica...       79  Phone   \n",
       "1  So far I like the app a lot. It may not look a...      130  Phone   \n",
       "2  A great resource for learning HTML or brushing...      NaN  Phone   \n",
       "3  I really like this app and its partner apps (c...       40  Phone   \n",
       "4  App works well, some bugs here and there with ...       17  Phone   \n",
       "\n",
       "  app_version sentiment_label  sentiment_score  \\\n",
       "0       1.3.4        positive         0.998888   \n",
       "1       1.3.7        positive         0.998929   \n",
       "2       1.4.4        positive         0.998741   \n",
       "3       1.3.7        positive         0.998935   \n",
       "4       1.4.4        positive         0.998915   \n",
       "\n",
       "                              review_id  \n",
       "0  37ced158-8ab4-47d7-837f-a0aee213fd8c  \n",
       "1  1c03e4e9-c29a-4bdb-aa0e-1360b63842c7  \n",
       "2  27722653-2923-409c-844a-73cfad4e6271  \n",
       "3  f1fc09c7-b3c1-46fa-833b-ba07d2f67eb6  \n",
       "4  c06a6a0b-0a83-427c-bf67-6b981a4b8589  "
      ]
     },
     "execution_count": 39,
     "metadata": {},
     "output_type": "execute_result"
    }
   ],
   "source": [
    "df_clean.head(5)"
   ]
  },
  {
   "cell_type": "markdown",
   "id": "50d23a20",
   "metadata": {},
   "source": [
    "### Quality Issue 8: Two columns, `app_version` and `star_rating`, are not `string` datatype"
   ]
  },
  {
   "cell_type": "markdown",
   "id": "547b42a1",
   "metadata": {},
   "source": [
    "#### Code:"
   ]
  },
  {
   "cell_type": "code",
   "execution_count": 40,
   "id": "a4e0935b",
   "metadata": {},
   "outputs": [],
   "source": [
    "df_clean['app_version'] = df_clean['app_version'].astype('str')\n",
    "df_clean['star_rating'] = df_clean['star_rating'].astype('str')"
   ]
  },
  {
   "cell_type": "markdown",
   "id": "0fdac21d",
   "metadata": {},
   "source": [
    "#### Test:"
   ]
  },
  {
   "cell_type": "code",
   "execution_count": 41,
   "id": "588af3e8",
   "metadata": {},
   "outputs": [
    {
     "data": {
      "text/plain": [
       "dtype('O')"
      ]
     },
     "execution_count": 41,
     "metadata": {},
     "output_type": "execute_result"
    }
   ],
   "source": [
    "df_clean['app_version'].dtype"
   ]
  },
  {
   "cell_type": "code",
   "execution_count": 42,
   "id": "032675d4",
   "metadata": {},
   "outputs": [
    {
     "data": {
      "text/plain": [
       "dtype('O')"
      ]
     },
     "execution_count": 42,
     "metadata": {},
     "output_type": "execute_result"
    }
   ],
   "source": [
    "df_clean['star_rating'].dtype"
   ]
  },
  {
   "cell_type": "markdown",
   "id": "59a1b362",
   "metadata": {},
   "source": [
    "## Storing Data"
   ]
  },
  {
   "cell_type": "code",
   "execution_count": 43,
   "id": "ba6930b8",
   "metadata": {},
   "outputs": [],
   "source": [
    "df_clean.set_index('review_id', inplace=True)"
   ]
  },
  {
   "cell_type": "code",
   "execution_count": 44,
   "id": "bfd1c1ad",
   "metadata": {},
   "outputs": [
    {
     "data": {
      "text/html": [
       "<div>\n",
       "<style scoped>\n",
       "    .dataframe tbody tr th:only-of-type {\n",
       "        vertical-align: middle;\n",
       "    }\n",
       "\n",
       "    .dataframe tbody tr th {\n",
       "        vertical-align: top;\n",
       "    }\n",
       "\n",
       "    .dataframe thead th {\n",
       "        text-align: right;\n",
       "    }\n",
       "</style>\n",
       "<table border=\"1\" class=\"dataframe\">\n",
       "  <thead>\n",
       "    <tr style=\"text-align: right;\">\n",
       "      <th></th>\n",
       "      <th>username</th>\n",
       "      <th>star_rating</th>\n",
       "      <th>date</th>\n",
       "      <th>review_content</th>\n",
       "      <th>thumbsup</th>\n",
       "      <th>device</th>\n",
       "      <th>app_version</th>\n",
       "      <th>sentiment_label</th>\n",
       "      <th>sentiment_score</th>\n",
       "    </tr>\n",
       "    <tr>\n",
       "      <th>review_id</th>\n",
       "      <th></th>\n",
       "      <th></th>\n",
       "      <th></th>\n",
       "      <th></th>\n",
       "      <th></th>\n",
       "      <th></th>\n",
       "      <th></th>\n",
       "      <th></th>\n",
       "      <th></th>\n",
       "    </tr>\n",
       "  </thead>\n",
       "  <tbody>\n",
       "    <tr>\n",
       "      <th>37ced158-8ab4-47d7-837f-a0aee213fd8c</th>\n",
       "      <td>Jereld Camphor</td>\n",
       "      <td>5</td>\n",
       "      <td>2020-08-23</td>\n",
       "      <td>It is an excellent app. It provides a practica...</td>\n",
       "      <td>79</td>\n",
       "      <td>Phone</td>\n",
       "      <td>1.3.4</td>\n",
       "      <td>positive</td>\n",
       "      <td>0.998888</td>\n",
       "    </tr>\n",
       "    <tr>\n",
       "      <th>1c03e4e9-c29a-4bdb-aa0e-1360b63842c7</th>\n",
       "      <td>Harrison H</td>\n",
       "      <td>5</td>\n",
       "      <td>2020-10-30</td>\n",
       "      <td>So far I like the app a lot. It may not look a...</td>\n",
       "      <td>130</td>\n",
       "      <td>Phone</td>\n",
       "      <td>1.3.7</td>\n",
       "      <td>positive</td>\n",
       "      <td>0.998929</td>\n",
       "    </tr>\n",
       "    <tr>\n",
       "      <th>27722653-2923-409c-844a-73cfad4e6271</th>\n",
       "      <td>Julio Lh</td>\n",
       "      <td>4</td>\n",
       "      <td>2024-12-06</td>\n",
       "      <td>A great resource for learning HTML or brushing...</td>\n",
       "      <td>NaN</td>\n",
       "      <td>Phone</td>\n",
       "      <td>1.4.4</td>\n",
       "      <td>positive</td>\n",
       "      <td>0.998741</td>\n",
       "    </tr>\n",
       "    <tr>\n",
       "      <th>f1fc09c7-b3c1-46fa-833b-ba07d2f67eb6</th>\n",
       "      <td>Cecile Perret</td>\n",
       "      <td>5</td>\n",
       "      <td>2020-10-19</td>\n",
       "      <td>I really like this app and its partner apps (c...</td>\n",
       "      <td>40</td>\n",
       "      <td>Phone</td>\n",
       "      <td>1.3.7</td>\n",
       "      <td>positive</td>\n",
       "      <td>0.998935</td>\n",
       "    </tr>\n",
       "    <tr>\n",
       "      <th>c06a6a0b-0a83-427c-bf67-6b981a4b8589</th>\n",
       "      <td>Cathy Furman</td>\n",
       "      <td>4</td>\n",
       "      <td>2023-02-19</td>\n",
       "      <td>App works well, some bugs here and there with ...</td>\n",
       "      <td>17</td>\n",
       "      <td>Phone</td>\n",
       "      <td>1.4.4</td>\n",
       "      <td>positive</td>\n",
       "      <td>0.998915</td>\n",
       "    </tr>\n",
       "  </tbody>\n",
       "</table>\n",
       "</div>"
      ],
      "text/plain": [
       "                                            username star_rating       date  \\\n",
       "review_id                                                                     \n",
       "37ced158-8ab4-47d7-837f-a0aee213fd8c  Jereld Camphor           5 2020-08-23   \n",
       "1c03e4e9-c29a-4bdb-aa0e-1360b63842c7      Harrison H           5 2020-10-30   \n",
       "27722653-2923-409c-844a-73cfad4e6271        Julio Lh           4 2024-12-06   \n",
       "f1fc09c7-b3c1-46fa-833b-ba07d2f67eb6   Cecile Perret           5 2020-10-19   \n",
       "c06a6a0b-0a83-427c-bf67-6b981a4b8589    Cathy Furman           4 2023-02-19   \n",
       "\n",
       "                                                                         review_content  \\\n",
       "review_id                                                                                 \n",
       "37ced158-8ab4-47d7-837f-a0aee213fd8c  It is an excellent app. It provides a practica...   \n",
       "1c03e4e9-c29a-4bdb-aa0e-1360b63842c7  So far I like the app a lot. It may not look a...   \n",
       "27722653-2923-409c-844a-73cfad4e6271  A great resource for learning HTML or brushing...   \n",
       "f1fc09c7-b3c1-46fa-833b-ba07d2f67eb6  I really like this app and its partner apps (c...   \n",
       "c06a6a0b-0a83-427c-bf67-6b981a4b8589  App works well, some bugs here and there with ...   \n",
       "\n",
       "                                     thumbsup device app_version  \\\n",
       "review_id                                                          \n",
       "37ced158-8ab4-47d7-837f-a0aee213fd8c       79  Phone       1.3.4   \n",
       "1c03e4e9-c29a-4bdb-aa0e-1360b63842c7      130  Phone       1.3.7   \n",
       "27722653-2923-409c-844a-73cfad4e6271      NaN  Phone       1.4.4   \n",
       "f1fc09c7-b3c1-46fa-833b-ba07d2f67eb6       40  Phone       1.3.7   \n",
       "c06a6a0b-0a83-427c-bf67-6b981a4b8589       17  Phone       1.4.4   \n",
       "\n",
       "                                     sentiment_label  sentiment_score  \n",
       "review_id                                                              \n",
       "37ced158-8ab4-47d7-837f-a0aee213fd8c        positive         0.998888  \n",
       "1c03e4e9-c29a-4bdb-aa0e-1360b63842c7        positive         0.998929  \n",
       "27722653-2923-409c-844a-73cfad4e6271        positive         0.998741  \n",
       "f1fc09c7-b3c1-46fa-833b-ba07d2f67eb6        positive         0.998935  \n",
       "c06a6a0b-0a83-427c-bf67-6b981a4b8589        positive         0.998915  "
      ]
     },
     "execution_count": 44,
     "metadata": {},
     "output_type": "execute_result"
    }
   ],
   "source": [
    "df_clean.head(5)"
   ]
  },
  {
   "cell_type": "code",
   "execution_count": 45,
   "id": "1f1278e2",
   "metadata": {},
   "outputs": [],
   "source": [
    "df_clean.to_csv('learnhtmlpro-clean.csv')"
   ]
  },
  {
   "cell_type": "markdown",
   "id": "deafb7cd",
   "metadata": {},
   "source": [
    "## Exploratory Data Analysis"
   ]
  },
  {
   "cell_type": "code",
   "execution_count": 46,
   "id": "101dbff1",
   "metadata": {},
   "outputs": [
    {
     "data": {
      "text/plain": [
       "0"
      ]
     },
     "execution_count": 46,
     "metadata": {},
     "output_type": "execute_result"
    }
   ],
   "source": [
    "df_clean.duplicated().sum()"
   ]
  },
  {
   "cell_type": "code",
   "execution_count": 47,
   "id": "ab6cb3e9",
   "metadata": {},
   "outputs": [
    {
     "data": {
      "text/plain": [
       "count     103\n",
       "unique      4\n",
       "top         5\n",
       "freq       86\n",
       "Name: star_rating, dtype: object"
      ]
     },
     "execution_count": 47,
     "metadata": {},
     "output_type": "execute_result"
    }
   ],
   "source": [
    "df_clean['star_rating'].describe()"
   ]
  },
  {
   "cell_type": "code",
   "execution_count": 48,
   "id": "fe0185be",
   "metadata": {},
   "outputs": [
    {
     "data": {
      "text/plain": [
       "Timestamp('2018-12-30 00:00:00')"
      ]
     },
     "execution_count": 48,
     "metadata": {},
     "output_type": "execute_result"
    }
   ],
   "source": [
    "df_clean['date'].min()"
   ]
  },
  {
   "cell_type": "code",
   "execution_count": 49,
   "id": "45662ec6",
   "metadata": {},
   "outputs": [
    {
     "data": {
      "text/plain": [
       "Timestamp('2024-12-06 00:00:00')"
      ]
     },
     "execution_count": 49,
     "metadata": {},
     "output_type": "execute_result"
    }
   ],
   "source": [
    "df_clean['date'].max()"
   ]
  },
  {
   "cell_type": "code",
   "execution_count": 50,
   "id": "ca26ecac",
   "metadata": {},
   "outputs": [
    {
     "data": {
      "text/plain": [
       "positive    97\n",
       "negative     6\n",
       "Name: sentiment_label, dtype: int64"
      ]
     },
     "execution_count": 50,
     "metadata": {},
     "output_type": "execute_result"
    }
   ],
   "source": [
    "df_clean['sentiment_label'].value_counts()"
   ]
  },
  {
   "cell_type": "code",
   "execution_count": 51,
   "id": "67560954",
   "metadata": {
    "scrolled": false
   },
   "outputs": [
    {
     "data": {
      "image/png": "[encoded data removed]",
      "text/plain": [
       "<Figure size 600x400 with 1 Axes>"
      ]
     },
     "metadata": {},
     "output_type": "display_data"
    }
   ],
   "source": [
    "x = df_clean['star_rating'].unique()\n",
    "y = df_clean['star_rating'].value_counts()\n",
    "\n",
    "plt.figure(figsize=(6,4))\n",
    "plt.bar(x,y)\n",
    "plt.show()"
   ]
  },
  {
   "cell_type": "code",
   "execution_count": 52,
   "id": "700f7276",
   "metadata": {},
   "outputs": [
    {
     "data": {
      "text/plain": [
       "count    103.000000\n",
       "mean       0.998638\n",
       "std        0.000577\n",
       "min        0.995493\n",
       "25%        0.998602\n",
       "50%        0.998829\n",
       "75%        0.998890\n",
       "max        0.999507\n",
       "Name: sentiment_score, dtype: float64"
      ]
     },
     "execution_count": 52,
     "metadata": {},
     "output_type": "execute_result"
    }
   ],
   "source": [
    "df_clean['sentiment_score'].describe()"
   ]
  },
  {
   "cell_type": "code",
   "execution_count": 53,
   "id": "ca02ccba",
   "metadata": {},
   "outputs": [
    {
     "data": {
      "text/plain": [
       "<seaborn.axisgrid.FacetGrid at 0x16e986ef520>"
      ]
     },
     "execution_count": 53,
     "metadata": {},
     "output_type": "execute_result"
    },
    {
     "data": {
      "image/png": "[encoded data removed]",
      "text/plain": [
       "<Figure size 500x500 with 1 Axes>"
      ]
     },
     "metadata": {},
     "output_type": "display_data"
    }
   ],
   "source": [
    "bin_edges = np.arange(df_clean['sentiment_score'].min(),df_clean['sentiment_score'].max()+0.0004, 0.0004)\n",
    "sb.displot(df_clean['sentiment_score'], bins=bin_edges)"
   ]
  },
  {
   "cell_type": "code",
   "execution_count": 54,
   "id": "449b27a9",
   "metadata": {},
   "outputs": [
    {
     "data": {
      "text/plain": [
       "<AxesSubplot: ylabel='star_rating'>"
      ]
     },
     "execution_count": 54,
     "metadata": {},
     "output_type": "execute_result"
    },
    {
     "data": {
      "image/png": "[encoded data removed]",
      "text/plain": [
       "<Figure size 640x480 with 1 Axes>"
      ]
     },
     "metadata": {},
     "output_type": "display_data"
    }
   ],
   "source": [
    "df_clean['star_rating'].value_counts().plot(kind='pie')"
   ]
  },
  {
   "cell_type": "code",
   "execution_count": 55,
   "id": "9f7c35c8",
   "metadata": {},
   "outputs": [
    {
     "data": {
      "image/png": "[encoded data removed]",
      "text/plain": [
       "<Figure size 1500x800 with 1 Axes>"
      ]
     },
     "metadata": {},
     "output_type": "display_data"
    }
   ],
   "source": [
    "x = df_clean[df_clean['app_version'] != 'nan']['app_version'].unique()\n",
    "y = df_clean[df_clean['app_version'] != 'nan']['app_version'].value_counts()\n",
    "\n",
    "plt.figure(figsize=(15,8))\n",
    "plt.bar(x,y)\n",
    "plt.show()"
   ]
  },
  {
   "cell_type": "code",
   "execution_count": 56,
   "id": "6465aae3",
   "metadata": {},
   "outputs": [],
   "source": [
    "df_clean['year'] = df_clean['date'].dt.year"
   ]
  },
  {
   "cell_type": "code",
   "execution_count": 57,
   "id": "9bb7259d",
   "metadata": {},
   "outputs": [
    {
     "data": {
      "text/html": [
       "<div>\n",
       "<style scoped>\n",
       "    .dataframe tbody tr th:only-of-type {\n",
       "        vertical-align: middle;\n",
       "    }\n",
       "\n",
       "    .dataframe tbody tr th {\n",
       "        vertical-align: top;\n",
       "    }\n",
       "\n",
       "    .dataframe thead th {\n",
       "        text-align: right;\n",
       "    }\n",
       "</style>\n",
       "<table border=\"1\" class=\"dataframe\">\n",
       "  <thead>\n",
       "    <tr style=\"text-align: right;\">\n",
       "      <th></th>\n",
       "      <th>username</th>\n",
       "      <th>star_rating</th>\n",
       "      <th>date</th>\n",
       "      <th>review_content</th>\n",
       "      <th>thumbsup</th>\n",
       "      <th>device</th>\n",
       "      <th>app_version</th>\n",
       "      <th>sentiment_label</th>\n",
       "      <th>sentiment_score</th>\n",
       "      <th>year</th>\n",
       "    </tr>\n",
       "    <tr>\n",
       "      <th>review_id</th>\n",
       "      <th></th>\n",
       "      <th></th>\n",
       "      <th></th>\n",
       "      <th></th>\n",
       "      <th></th>\n",
       "      <th></th>\n",
       "      <th></th>\n",
       "      <th></th>\n",
       "      <th></th>\n",
       "      <th></th>\n",
       "    </tr>\n",
       "  </thead>\n",
       "  <tbody>\n",
       "    <tr>\n",
       "      <th>f1fc09c7-b3c1-46fa-833b-ba07d2f67eb6</th>\n",
       "      <td>Cecile Perret</td>\n",
       "      <td>5</td>\n",
       "      <td>2020-10-19</td>\n",
       "      <td>I really like this app and its partner apps (c...</td>\n",
       "      <td>40</td>\n",
       "      <td>Phone</td>\n",
       "      <td>1.3.7</td>\n",
       "      <td>positive</td>\n",
       "      <td>0.998935</td>\n",
       "      <td>2020</td>\n",
       "    </tr>\n",
       "    <tr>\n",
       "      <th>cd7f4616-3ffe-4cb7-8217-854b2e05478a</th>\n",
       "      <td>Astro Biological</td>\n",
       "      <td>5</td>\n",
       "      <td>2022-10-16</td>\n",
       "      <td>Very useful for a student such as myself</td>\n",
       "      <td>NaN</td>\n",
       "      <td>Phone</td>\n",
       "      <td>1.4.4</td>\n",
       "      <td>positive</td>\n",
       "      <td>0.998661</td>\n",
       "      <td>2022</td>\n",
       "    </tr>\n",
       "    <tr>\n",
       "      <th>c9cf3f0d-e1b3-4f17-a0b7-6e94883cee04</th>\n",
       "      <td>Josh Shoesmith</td>\n",
       "      <td>4</td>\n",
       "      <td>2020-10-21</td>\n",
       "      <td>It is and good way to learn and keep up your h...</td>\n",
       "      <td>1</td>\n",
       "      <td>Phone</td>\n",
       "      <td>1.3.7</td>\n",
       "      <td>positive</td>\n",
       "      <td>0.998879</td>\n",
       "      <td>2020</td>\n",
       "    </tr>\n",
       "    <tr>\n",
       "      <th>c06a6a0b-0a83-427c-bf67-6b981a4b8589</th>\n",
       "      <td>Cathy Furman</td>\n",
       "      <td>4</td>\n",
       "      <td>2023-02-19</td>\n",
       "      <td>App works well, some bugs here and there with ...</td>\n",
       "      <td>17</td>\n",
       "      <td>Phone</td>\n",
       "      <td>1.4.4</td>\n",
       "      <td>positive</td>\n",
       "      <td>0.998915</td>\n",
       "      <td>2023</td>\n",
       "    </tr>\n",
       "    <tr>\n",
       "      <th>dc82d38c-ff68-49e9-b82f-805467491e82</th>\n",
       "      <td>Tapas Sarkar</td>\n",
       "      <td>5</td>\n",
       "      <td>2021-09-08</td>\n",
       "      <td>ultimate to learn html</td>\n",
       "      <td>NaN</td>\n",
       "      <td>Phone</td>\n",
       "      <td>1.4.1</td>\n",
       "      <td>positive</td>\n",
       "      <td>0.997675</td>\n",
       "      <td>2021</td>\n",
       "    </tr>\n",
       "  </tbody>\n",
       "</table>\n",
       "</div>"
      ],
      "text/plain": [
       "                                              username star_rating       date  \\\n",
       "review_id                                                                       \n",
       "f1fc09c7-b3c1-46fa-833b-ba07d2f67eb6     Cecile Perret           5 2020-10-19   \n",
       "cd7f4616-3ffe-4cb7-8217-854b2e05478a  Astro Biological           5 2022-10-16   \n",
       "c9cf3f0d-e1b3-4f17-a0b7-6e94883cee04    Josh Shoesmith           4 2020-10-21   \n",
       "c06a6a0b-0a83-427c-bf67-6b981a4b8589      Cathy Furman           4 2023-02-19   \n",
       "dc82d38c-ff68-49e9-b82f-805467491e82      Tapas Sarkar           5 2021-09-08   \n",
       "\n",
       "                                                                         review_content  \\\n",
       "review_id                                                                                 \n",
       "f1fc09c7-b3c1-46fa-833b-ba07d2f67eb6  I really like this app and its partner apps (c...   \n",
       "cd7f4616-3ffe-4cb7-8217-854b2e05478a           Very useful for a student such as myself   \n",
       "c9cf3f0d-e1b3-4f17-a0b7-6e94883cee04  It is and good way to learn and keep up your h...   \n",
       "c06a6a0b-0a83-427c-bf67-6b981a4b8589  App works well, some bugs here and there with ...   \n",
       "dc82d38c-ff68-49e9-b82f-805467491e82                             ultimate to learn html   \n",
       "\n",
       "                                     thumbsup device app_version  \\\n",
       "review_id                                                          \n",
       "f1fc09c7-b3c1-46fa-833b-ba07d2f67eb6       40  Phone       1.3.7   \n",
       "cd7f4616-3ffe-4cb7-8217-854b2e05478a      NaN  Phone       1.4.4   \n",
       "c9cf3f0d-e1b3-4f17-a0b7-6e94883cee04        1  Phone       1.3.7   \n",
       "c06a6a0b-0a83-427c-bf67-6b981a4b8589       17  Phone       1.4.4   \n",
       "dc82d38c-ff68-49e9-b82f-805467491e82      NaN  Phone       1.4.1   \n",
       "\n",
       "                                     sentiment_label  sentiment_score  year  \n",
       "review_id                                                                    \n",
       "f1fc09c7-b3c1-46fa-833b-ba07d2f67eb6        positive         0.998935  2020  \n",
       "cd7f4616-3ffe-4cb7-8217-854b2e05478a        positive         0.998661  2022  \n",
       "c9cf3f0d-e1b3-4f17-a0b7-6e94883cee04        positive         0.998879  2020  \n",
       "c06a6a0b-0a83-427c-bf67-6b981a4b8589        positive         0.998915  2023  \n",
       "dc82d38c-ff68-49e9-b82f-805467491e82        positive         0.997675  2021  "
      ]
     },
     "execution_count": 57,
     "metadata": {},
     "output_type": "execute_result"
    }
   ],
   "source": [
    "df_clean.sample(5)"
   ]
  },
  {
   "cell_type": "code",
   "execution_count": 62,
   "id": "e37498f8",
   "metadata": {},
   "outputs": [
    {
     "data": {
      "image/png": "[encoded data removed]",
      "text/plain": [
       "<Figure size 640x480 with 1 Axes>"
      ]
     },
     "metadata": {},
     "output_type": "display_data"
    }
   ],
   "source": [
    "ordering = df_clean['year'].value_counts(ascending=False).index\n",
    "sb.countplot(data=df_clean, x='year', color = sb.color_palette()[1], order=ordering)\n",
    "plt.show()"
   ]
  },
  {
   "cell_type": "code",
   "execution_count": 63,
   "id": "2c792180",
   "metadata": {},
   "outputs": [
    {
     "data": {
      "image/png": "[encoded data removed]",
      "text/plain": [
       "<Figure size 2000x500 with 2 Axes>"
      ]
     },
     "metadata": {},
     "output_type": "display_data"
    }
   ],
   "source": [
    "plt.figure(figsize=[20,5])\n",
    "\n",
    "plt.subplot(1,2,1)\n",
    "df_clean['device'].value_counts().plot(kind='pie')\n",
    "\n",
    "plt.subplot(1,2,2)\n",
    "df_clean['sentiment_label'].value_counts().plot(kind='pie')\n",
    "plt.show()"
   ]
  },
  {
   "cell_type": "code",
   "execution_count": 67,
   "id": "1a44a28b",
   "metadata": {},
   "outputs": [
    {
     "data": {
      "image/png": "[encoded data removed]",
      "text/plain": [
       "<Figure size 640x480 with 1 Axes>"
      ]
     },
     "metadata": {},
     "output_type": "display_data"
    }
   ],
   "source": [
    "sb.countplot(data=df_clean, x='year',hue= 'sentiment_label',color = sb.color_palette()[2])\n",
    "plt.show()"
   ]
  },
  {
   "cell_type": "code",
   "execution_count": null,
   "id": "f6d0940b",
   "metadata": {},
   "outputs": [],
   "source": []
  },
  {
   "cell_type": "code",
   "execution_count": null,
   "id": "32efc6d8",
   "metadata": {},
   "outputs": [],
   "source": []
  },
  {
   "cell_type": "code",
   "execution_count": null,
   "id": "fa04344a",
   "metadata": {},
   "outputs": [],
   "source": []
  },
  {
   "cell_type": "code",
   "execution_count": null,
   "id": "2ec1dca8",
   "metadata": {},
   "outputs": [],
   "source": []
  },
  {
   "cell_type": "code",
   "execution_count": null,
   "id": "5a2826cd",
   "metadata": {},
   "outputs": [],
   "source": []
  },
  {
   "cell_type": "code",
   "execution_count": null,
   "id": "ab47e854",
   "metadata": {},
   "outputs": [],
   "source": []
  }
 ],
 "metadata": {
  "kernelspec": {
   "display_name": "Python 3 (ipykernel)",
   "language": "python",
   "name": "python3"
  },
  "language_info": {
   "codemirror_mode": {
    "name": "ipython",
    "version": 3
   },
   "file_extension": ".py",
   "mimetype": "text/x-python",
   "name": "python",
   "nbconvert_exporter": "python",
   "pygments_lexer": "ipython3",
   "version": "3.9.13"
  }
 },
 "nbformat": 4,
 "nbformat_minor": 5
}
