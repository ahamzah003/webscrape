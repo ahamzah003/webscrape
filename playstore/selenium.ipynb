{
 "cells": [
  {
   "cell_type": "code",
   "execution_count": 1,
   "id": "f480d6b9",
   "metadata": {
    "scrolled": true
   },
   "outputs": [
    {
     "name": "stdout",
     "output_type": "stream",
     "text": [
      "Requirement already satisfied: selenium in c:\\users\\snt\\anaconda3\\lib\\site-packages (4.27.1)\n",
      "Requirement already satisfied: typing_extensions~=4.9 in c:\\users\\snt\\anaconda3\\lib\\site-packages (from selenium) (4.12.2)\n",
      "Requirement already satisfied: trio~=0.17 in c:\\users\\snt\\anaconda3\\lib\\site-packages (from selenium) (0.27.0)\n",
      "Requirement already satisfied: websocket-client~=1.8 in c:\\users\\snt\\anaconda3\\lib\\site-packages (from selenium) (1.8.0)\n",
      "Requirement already satisfied: trio-websocket~=0.9 in c:\\users\\snt\\anaconda3\\lib\\site-packages (from selenium) (0.11.1)\n",
      "Requirement already satisfied: urllib3[socks]<3,>=1.26 in c:\\users\\snt\\anaconda3\\lib\\site-packages (from selenium) (1.26.14)\n",
      "Requirement already satisfied: certifi>=2021.10.8 in c:\\users\\snt\\anaconda3\\lib\\site-packages (from selenium) (2022.12.7)\n",
      "Requirement already satisfied: idna in c:\\users\\snt\\anaconda3\\lib\\site-packages (from trio~=0.17->selenium) (3.4)\n",
      "Requirement already satisfied: outcome in c:\\users\\snt\\anaconda3\\lib\\site-packages (from trio~=0.17->selenium) (1.3.0.post0)\n",
      "Requirement already satisfied: sniffio>=1.3.0 in c:\\users\\snt\\anaconda3\\lib\\site-packages (from trio~=0.17->selenium) (1.3.1)\n",
      "Requirement already satisfied: sortedcontainers in c:\\users\\snt\\anaconda3\\lib\\site-packages (from trio~=0.17->selenium) (2.4.0)\n",
      "Requirement already satisfied: exceptiongroup in c:\\users\\snt\\anaconda3\\lib\\site-packages (from trio~=0.17->selenium) (1.2.2)\n",
      "Requirement already satisfied: attrs>=23.2.0 in c:\\users\\snt\\anaconda3\\lib\\site-packages (from trio~=0.17->selenium) (24.2.0)\n",
      "Requirement already satisfied: cffi>=1.14 in c:\\users\\snt\\anaconda3\\lib\\site-packages (from trio~=0.17->selenium) (1.15.1)\n",
      "Requirement already satisfied: wsproto>=0.14 in c:\\users\\snt\\anaconda3\\lib\\site-packages (from trio-websocket~=0.9->selenium) (1.2.0)\n",
      "Requirement already satisfied: PySocks!=1.5.7,<2.0,>=1.5.6 in c:\\users\\snt\\anaconda3\\lib\\site-packages (from urllib3[socks]<3,>=1.26->selenium) (1.7.1)\n",
      "Requirement already satisfied: pycparser in c:\\users\\snt\\anaconda3\\lib\\site-packages (from cffi>=1.14->trio~=0.17->selenium) (2.21)\n",
      "Requirement already satisfied: h11<1,>=0.9.0 in c:\\users\\snt\\anaconda3\\lib\\site-packages (from wsproto>=0.14->trio-websocket~=0.9->selenium) (0.14.0)\n"
     ]
    },
    {
     "name": "stderr",
     "output_type": "stream",
     "text": [
      "WARNING: Ignoring invalid distribution -atplotlib (c:\\users\\snt\\anaconda3\\lib\\site-packages)\n",
      "WARNING: Ignoring invalid distribution -atplotlib (c:\\users\\snt\\anaconda3\\lib\\site-packages)\n",
      "WARNING: Ignoring invalid distribution -atplotlib (c:\\users\\snt\\anaconda3\\lib\\site-packages)\n",
      "WARNING: Ignoring invalid distribution -atplotlib (c:\\users\\snt\\anaconda3\\lib\\site-packages)\n",
      "WARNING: Ignoring invalid distribution -atplotlib (c:\\users\\snt\\anaconda3\\lib\\site-packages)\n",
      "WARNING: Ignoring invalid distribution -atplotlib (c:\\users\\snt\\anaconda3\\lib\\site-packages)\n"
     ]
    }
   ],
   "source": [
    "# install selenium\n",
    "!pip install -U selenium"
   ]
  },
  {
   "cell_type": "code",
   "execution_count": 1,
   "id": "5896d144",
   "metadata": {},
   "outputs": [],
   "source": [
    "# imports\n",
    "import pandas as pd\n",
    "import time\n",
    "from selenium import webdriver\n",
    "from selenium.webdriver.chrome.service import Service\n",
    "from selenium.webdriver.common.by import By\n",
    "from selenium.webdriver.common.action_chains import ActionChains as AC\n",
    "from selenium.webdriver.common.keys import Keys\n",
    "from selenium.webdriver.support.ui import Select, WebDriverWait  \n",
    "from selenium.webdriver.support import expected_conditions as EC\n",
    "from selenium.common.exceptions import NoSuchElementException, TimeoutException \n",
    "from timeit import default_timer as timer\n",
    "from transformers import pipeline"
   ]
  },
  {
   "cell_type": "markdown",
   "id": "3ff8505c",
   "metadata": {},
   "source": [
    "## Data Gathering"
   ]
  },
  {
   "cell_type": "code",
   "execution_count": 31,
   "id": "c1b4c241",
   "metadata": {},
   "outputs": [],
   "source": [
    "# set playstore url of the app and the system path to chromedriver\n",
    "htmlpro = 'https://play.google.com/store/apps/details?id=com.codeliber.htmlpro&hl=en&gl=ng'\n",
    "# set file path\n",
    "path = r\"C:\\Users\\SNT\\Downloads\\chromedriver-win64\\chromedriver-win64\\chromedriver.exe\""
   ]
  },
  {
   "cell_type": "code",
   "execution_count": 32,
   "id": "48cfb341",
   "metadata": {},
   "outputs": [],
   "source": [
    "# use the Service class\n",
    "service = Service(executable_path=path)\n",
    "driver = webdriver.Chrome(service=service)"
   ]
  },
  {
   "cell_type": "code",
   "execution_count": 33,
   "id": "3b352dfb",
   "metadata": {},
   "outputs": [],
   "source": [
    "# wait for the window to open \n",
    "time.sleep(15)"
   ]
  },
  {
   "cell_type": "code",
   "execution_count": 34,
   "id": "27de8398",
   "metadata": {},
   "outputs": [],
   "source": [
    "# open glovo app site on playstore\n",
    "driver.get(htmlpro)"
   ]
  },
  {
   "cell_type": "code",
   "execution_count": 35,
   "id": "e847f95b",
   "metadata": {},
   "outputs": [],
   "source": [
    "# maximize window to full screen\n",
    "driver.maximize_window()"
   ]
  },
  {
   "cell_type": "code",
   "execution_count": 36,
   "id": "f809a1e6",
   "metadata": {},
   "outputs": [],
   "source": [
    "# get home window\n",
    "home_window = driver.current_window_handle"
   ]
  },
  {
   "cell_type": "code",
   "execution_count": 8,
   "id": "f35af5c0",
   "metadata": {},
   "outputs": [],
   "source": [
    "# create a function for clickable elements \n",
    "def klick(xpath):\n",
    "    \"\"\"\n",
    "    A private function to find and click \n",
    "    on any clickable element on a webpage.\n",
    "    Its argument should be a valid XPath of\n",
    "    the corresponding element.\n",
    "    If the XPath is invalid, it returns a \n",
    "    TimeoutException after ten seconds.\n",
    "    \n",
    "    e.g. klick('//div[@class=\"dropdown\"]')\n",
    "    \"\"\"\n",
    "    wait = WebDriverWait(driver, 10)\n",
    "    locate = wait.until(EC.element_to_be_clickable((By.XPATH, xpath)))\n",
    "    locate.click()"
   ]
  },
  {
   "cell_type": "code",
   "execution_count": 37,
   "id": "6cc9faed",
   "metadata": {},
   "outputs": [],
   "source": [
    "# click \"ratings and review\" button\n",
    "klick('/html/body/c-wiz[2]/div/div/div[1]/div/div[2]/div/div[1]/div[1]/c-wiz[5]/section/header/div/div[2]/button/i')"
   ]
  },
  {
   "cell_type": "code",
   "execution_count": 38,
   "id": "552de7c1",
   "metadata": {},
   "outputs": [],
   "source": [
    "# wait for the new window to open \n",
    "time.sleep(15)"
   ]
  },
  {
   "cell_type": "code",
   "execution_count": 11,
   "id": "c992a97f",
   "metadata": {},
   "outputs": [],
   "source": [
    "def scrape_name(driver_name, container):\n",
    "    \"\"\"\n",
    "    A private function to extract the name of the app reviewer.\n",
    "    Its first argument should be the assigned variable name to \n",
    "    a WebElement object. While the second argument should be a\n",
    "    list datatype for storing the extracted name.\n",
    "    \"\"\"\n",
    "    reviewer_name = driver_name.find_element(By.CLASS_NAME, \"X5PpBb\").text\n",
    "    container.append(reviewer_name)"
   ]
  },
  {
   "cell_type": "code",
   "execution_count": 12,
   "id": "ba4c4c89",
   "metadata": {},
   "outputs": [],
   "source": [
    "def scrape_rating(driver_name, container):\n",
    "    \"\"\"\n",
    "    A private function to extract the rating count of the app \n",
    "    review.\n",
    "    Its first argument should be the assigned variable name to \n",
    "    a WebElement object. While the second argument should be a\n",
    "    list datatype for storing the extracted ratings.\n",
    "    \"\"\"\n",
    "    star_rating = driver_name.find_element(By.CLASS_NAME, \"iXRFPc\").get_attribute(\"aria-label\").split(None, 2)[1]\n",
    "    container.append(star_rating)"
   ]
  },
  {
   "cell_type": "code",
   "execution_count": 13,
   "id": "996e2da6",
   "metadata": {},
   "outputs": [],
   "source": [
    "def scrape_date(driver_name, container):\n",
    "    \"\"\"\n",
    "    A private function to extract the date of review.\n",
    "    Its first argument should be the assigned variable name to \n",
    "    a WebElement object. While the second argument should be a\n",
    "    list datatype for storing the extracted date.\n",
    "    \"\"\"\n",
    "    review_date = driver_name.find_element(By.CLASS_NAME, \"bp9Aid\").text\n",
    "    container.append(review_date)"
   ]
  },
  {
   "cell_type": "code",
   "execution_count": 14,
   "id": "e858f38d",
   "metadata": {},
   "outputs": [],
   "source": [
    "def scrape_review(driver_name, container):\n",
    "    \"\"\"\n",
    "    A private function to extract the body of the review.\n",
    "    Its first argument should be the assigned variable name to \n",
    "    a WebElement object. While the second argument should be a\n",
    "    list datatype for storing the extracted date.\n",
    "    \"\"\"\n",
    "    review_note = driver_name.find_element(By.CLASS_NAME, \"h3YV2d\").text\n",
    "    container.append(review_note)"
   ]
  },
  {
   "cell_type": "code",
   "execution_count": 15,
   "id": "16c637b7",
   "metadata": {},
   "outputs": [],
   "source": [
    "def scrape_num(driver_name, container):\n",
    "    \"\"\"\n",
    "    A private function to extract the number of people that\n",
    "    found the review helpful.\n",
    "    Its first argument should be the assigned variable name to \n",
    "    a WebElement object. While the second argument should be a\n",
    "    list datatype for storing the extracted number.\n",
    "    \"\"\"\n",
    "    try:\n",
    "        yes_num = driver_name.find_element(By.CLASS_NAME, \"AJTPZc\").text.split(None, 2)[0]\n",
    "        container.append(yes_num)\n",
    "        \n",
    "    except NoSuchElementException:\n",
    "        container.append(\"None\")"
   ]
  },
  {
   "cell_type": "code",
   "execution_count": 39,
   "id": "3266b18e",
   "metadata": {},
   "outputs": [],
   "source": [
    "# create a dictionary to store extracted data\n",
    "app_review = {\n",
    "    'name': [],\n",
    "    'star_rating': [],\n",
    "    'date': [],\n",
    "    'review': [],\n",
    "    'people': [],\n",
    "    'device': []\n",
    "}"
   ]
  },
  {
   "cell_type": "code",
   "execution_count": 17,
   "id": "455b797c",
   "metadata": {},
   "outputs": [],
   "source": [
    "def scrape_all(driver_name):\n",
    "    \"\"\"\n",
    "    A private function to extract all data from a review \n",
    "    including the name of the reviewer; the star rating given;\n",
    "    the date of review; the body of the review; and the number\n",
    "    of people that found the review to be helpful.\n",
    "    Its only argument should be the assigned variable name to \n",
    "    a WebElement object.\n",
    "    \"\"\"\n",
    "    scrape_name(driver_name, app_review['name'])\n",
    "    scrape_rating(driver_name, app_review['star_rating'])\n",
    "    scrape_date(driver_name, app_review['date'])\n",
    "    scrape_review(driver_name, app_review['review'])\n",
    "    scrape_num(driver_name, app_review['people'])"
   ]
  },
  {
   "cell_type": "code",
   "execution_count": 18,
   "id": "ac745a66",
   "metadata": {},
   "outputs": [],
   "source": [
    "# set xpaths for the dropdown arrow used for filtering by phone, chromebook, or tablet\n",
    "menu = '//*[@id=\"formFactor_{}\"]/div[2]/i'\n",
    "\n",
    "# set xpaths for the menu review options:'Phone', 'Chromebook', and 'Tablet'\n",
    "xbase = '//*[@id=\"yDmH0d\"]/div[5]/div[2]/div/div/div/div/div[2]/div[2]/div/div/span[{}]'"
   ]
  },
  {
   "cell_type": "code",
   "execution_count": 19,
   "id": "467aca9d",
   "metadata": {},
   "outputs": [],
   "source": [
    "def scroll_down(action, section):\n",
    "    action.move_to_element(section).click().send_keys(Keys.PAGE_DOWN).perform()   "
   ]
  },
  {
   "cell_type": "code",
   "execution_count": 20,
   "id": "83262667",
   "metadata": {},
   "outputs": [],
   "source": [
    "def terminal_scroll(limit):\n",
    "    actions = AC(driver)\n",
    "    while True:\n",
    "        try:\n",
    "            reviews_section = driver.find_element(By.XPATH, '//*[@id=\"yDmH0d\"]/div[5]/div[2]/div/div/div/div/div[2]/div/div[2]/div[{}]'.format(limit))\n",
    "            scroll_down(actions, reviews_section)\n",
    "            print(limit)\n",
    "            time.sleep(7)\n",
    "            limit += 20\n",
    "            scroll_down(actions, reviews_section)\n",
    "            check = limit + 1\n",
    "            \n",
    "        except NoSuchElementException:\n",
    "            try:\n",
    "                while limit <= check :\n",
    "                    reviews_section = driver.find_element(By.XPATH, '//*[@id=\"yDmH0d\"]/div[5]/div[2]/div/div/div/div/div[2]/div/div[2]/div[{}]'.format(check))\n",
    "                    scroll_down(actions, reviews_section)\n",
    "                    time.sleep(7)\n",
    "                    scroll_down(actions, reviews_section)\n",
    "                    check += 1\n",
    "                    \n",
    "            except NoSuchElementException:\n",
    "                # debugging\n",
    "                print(limit, check)\n",
    "                break"
   ]
  },
  {
   "cell_type": "code",
   "execution_count": 40,
   "id": "af05c741",
   "metadata": {},
   "outputs": [],
   "source": [
    "def get_phone_reviews(x):\n",
    "    time.sleep(45)\n",
    "    terminal_scroll(x)\n",
    "    reviews = driver.find_elements(By.CLASS_NAME, \"RHo1pe\")\n",
    "    for review in reviews:\n",
    "        scrape_all(review)\n",
    "        app_review['device'].append('Phone')\n",
    "    # click dropdown arrow    \n",
    "    klick(menu.format(2))\n",
    "    # select tablet reviews\n",
    "    try:\n",
    "        klick(xbase.format(3))\n",
    "        \n",
    "    except TimeoutException:\n",
    "        klick(xbase.format(2))"
   ]
  },
  {
   "cell_type": "code",
   "execution_count": 22,
   "id": "b3a9af0b",
   "metadata": {},
   "outputs": [],
   "source": [
    "def get_tablet_reviews(x):\n",
    "    time.sleep(45)\n",
    "    terminal_scroll(x)\n",
    "    reviews = driver.find_elements(By.CLASS_NAME, \"RHo1pe\")\n",
    "    for review in reviews:\n",
    "        scrape_all(review)\n",
    "        app_review['device'].append('Tablet')\n",
    "    # click dropdown arrow\n",
    "    klick(menu.format(3))\n",
    "    # select chromebook reviews\n",
    "    klick(xbase.format(2))\n",
    "    time.sleep(45)\n",
    "    next_reviews = driver.find_elements(By.CLASS_NAME, \"RHo1pe\")\n",
    "    # use if-else to check if tablet or chromebook was selected \n",
    "    if reviews[0] == next_reviews[0]:\n",
    "        print('No Chromebook reviews')\n",
    "        \n",
    "    else:\n",
    "        print(\"Run 'get_chromebook_reviews'\")"
   ]
  },
  {
   "cell_type": "code",
   "execution_count": 23,
   "id": "717607db",
   "metadata": {},
   "outputs": [],
   "source": [
    "def get_chromebook_reviews(x):\n",
    "    time.sleep(45)\n",
    "    terminal_scroll(x)\n",
    "    reviews = driver.find_elements(By.CLASS_NAME, \"RHo1pe\")\n",
    "    for review in reviews:\n",
    "        scrape_all(review)\n",
    "        app_review['device'].append('Tablet')\n",
    "    # click dropdown arrow\n",
    "    klick(menu.format(5))\n",
    "    # select phone reviews\n",
    "    klick(xbase.format(1))\n",
    "    time.sleep(45)"
   ]
  },
  {
   "cell_type": "code",
   "execution_count": 41,
   "id": "ceabf14f",
   "metadata": {},
   "outputs": [
    {
     "name": "stdout",
     "output_type": "stream",
     "text": [
      "20\n",
      "40\n",
      "60\n",
      "80\n",
      "100 101\n"
     ]
    }
   ],
   "source": [
    "get_phone_reviews(20)"
   ]
  },
  {
   "cell_type": "code",
   "execution_count": 42,
   "id": "40098e2b",
   "metadata": {},
   "outputs": [
    {
     "name": "stdout",
     "output_type": "stream",
     "text": [
      "8\n",
      "28 29\n",
      "No Chromebook reviews\n"
     ]
    }
   ],
   "source": [
    "get_tablet_reviews(8)"
   ]
  },
  {
   "cell_type": "code",
   "execution_count": 45,
   "id": "7bfdcf32",
   "metadata": {},
   "outputs": [],
   "source": [
    "driver.quit()"
   ]
  },
  {
   "cell_type": "code",
   "execution_count": 43,
   "id": "53c298b7",
   "metadata": {},
   "outputs": [
    {
     "data": {
      "text/html": [
       "<div>\n",
       "<style scoped>\n",
       "    .dataframe tbody tr th:only-of-type {\n",
       "        vertical-align: middle;\n",
       "    }\n",
       "\n",
       "    .dataframe tbody tr th {\n",
       "        vertical-align: top;\n",
       "    }\n",
       "\n",
       "    .dataframe thead th {\n",
       "        text-align: right;\n",
       "    }\n",
       "</style>\n",
       "<table border=\"1\" class=\"dataframe\">\n",
       "  <thead>\n",
       "    <tr style=\"text-align: right;\">\n",
       "      <th></th>\n",
       "      <th>name</th>\n",
       "      <th>star_rating</th>\n",
       "      <th>date</th>\n",
       "      <th>review</th>\n",
       "      <th>people</th>\n",
       "      <th>device</th>\n",
       "    </tr>\n",
       "  </thead>\n",
       "  <tbody>\n",
       "    <tr>\n",
       "      <th>0</th>\n",
       "      <td>jereld camphor</td>\n",
       "      <td>5</td>\n",
       "      <td>August 23, 2020</td>\n",
       "      <td>It is an excellent app. It provides a practica...</td>\n",
       "      <td>79</td>\n",
       "      <td>Phone</td>\n",
       "    </tr>\n",
       "    <tr>\n",
       "      <th>1</th>\n",
       "      <td>Harrison H</td>\n",
       "      <td>5</td>\n",
       "      <td>October 30, 2020</td>\n",
       "      <td>So far I like the app a lot. It may not look a...</td>\n",
       "      <td>130</td>\n",
       "      <td>Phone</td>\n",
       "    </tr>\n",
       "    <tr>\n",
       "      <th>2</th>\n",
       "      <td>Julio LH</td>\n",
       "      <td>4</td>\n",
       "      <td>December 6, 2024</td>\n",
       "      <td>A great resource for learning HTML or brushing...</td>\n",
       "      <td>None</td>\n",
       "      <td>Phone</td>\n",
       "    </tr>\n",
       "    <tr>\n",
       "      <th>3</th>\n",
       "      <td>Cecile Perret</td>\n",
       "      <td>5</td>\n",
       "      <td>October 19, 2020</td>\n",
       "      <td>I really like this app and its partner apps (c...</td>\n",
       "      <td>40</td>\n",
       "      <td>Phone</td>\n",
       "    </tr>\n",
       "    <tr>\n",
       "      <th>4</th>\n",
       "      <td>Cathy Furman</td>\n",
       "      <td>4</td>\n",
       "      <td>February 19, 2023</td>\n",
       "      <td>App works well, some bugs here and there with ...</td>\n",
       "      <td>17</td>\n",
       "      <td>Phone</td>\n",
       "    </tr>\n",
       "    <tr>\n",
       "      <th>...</th>\n",
       "      <td>...</td>\n",
       "      <td>...</td>\n",
       "      <td>...</td>\n",
       "      <td>...</td>\n",
       "      <td>...</td>\n",
       "      <td>...</td>\n",
       "    </tr>\n",
       "    <tr>\n",
       "      <th>98</th>\n",
       "      <td>Astro Biological</td>\n",
       "      <td>5</td>\n",
       "      <td>June 24, 2023</td>\n",
       "      <td>This app has been a huge help in my learning j...</td>\n",
       "      <td>1</td>\n",
       "      <td>Tablet</td>\n",
       "    </tr>\n",
       "    <tr>\n",
       "      <th>99</th>\n",
       "      <td>Thomas Tom</td>\n",
       "      <td>4</td>\n",
       "      <td>August 22, 2021</td>\n",
       "      <td>Je suis content pour cette app. But how do you...</td>\n",
       "      <td>7</td>\n",
       "      <td>Tablet</td>\n",
       "    </tr>\n",
       "    <tr>\n",
       "      <th>100</th>\n",
       "      <td>Jason Collins</td>\n",
       "      <td>5</td>\n",
       "      <td>August 11, 2022</td>\n",
       "      <td>Actually quite good</td>\n",
       "      <td>None</td>\n",
       "      <td>Tablet</td>\n",
       "    </tr>\n",
       "    <tr>\n",
       "      <th>101</th>\n",
       "      <td>philip kemp</td>\n",
       "      <td>5</td>\n",
       "      <td>July 6, 2020</td>\n",
       "      <td>Exceptional App</td>\n",
       "      <td>1</td>\n",
       "      <td>Tablet</td>\n",
       "    </tr>\n",
       "    <tr>\n",
       "      <th>102</th>\n",
       "      <td>A Google user</td>\n",
       "      <td>5</td>\n",
       "      <td>June 25, 2019</td>\n",
       "      <td>I'm well impressed with this teaching aid and ...</td>\n",
       "      <td>5</td>\n",
       "      <td>Tablet</td>\n",
       "    </tr>\n",
       "  </tbody>\n",
       "</table>\n",
       "<p>103 rows × 6 columns</p>\n",
       "</div>"
      ],
      "text/plain": [
       "                 name star_rating               date  \\\n",
       "0      jereld camphor           5    August 23, 2020   \n",
       "1          Harrison H           5   October 30, 2020   \n",
       "2            Julio LH           4   December 6, 2024   \n",
       "3       Cecile Perret           5   October 19, 2020   \n",
       "4        Cathy Furman           4  February 19, 2023   \n",
       "..                ...         ...                ...   \n",
       "98   Astro Biological           5      June 24, 2023   \n",
       "99         Thomas Tom           4    August 22, 2021   \n",
       "100     Jason Collins           5    August 11, 2022   \n",
       "101       philip kemp           5       July 6, 2020   \n",
       "102     A Google user           5      June 25, 2019   \n",
       "\n",
       "                                                review people  device  \n",
       "0    It is an excellent app. It provides a practica...     79   Phone  \n",
       "1    So far I like the app a lot. It may not look a...    130   Phone  \n",
       "2    A great resource for learning HTML or brushing...   None   Phone  \n",
       "3    I really like this app and its partner apps (c...     40   Phone  \n",
       "4    App works well, some bugs here and there with ...     17   Phone  \n",
       "..                                                 ...    ...     ...  \n",
       "98   This app has been a huge help in my learning j...      1  Tablet  \n",
       "99   Je suis content pour cette app. But how do you...      7  Tablet  \n",
       "100                                Actually quite good   None  Tablet  \n",
       "101                                    Exceptional App      1  Tablet  \n",
       "102  I'm well impressed with this teaching aid and ...      5  Tablet  \n",
       "\n",
       "[103 rows x 6 columns]"
      ]
     },
     "execution_count": 43,
     "metadata": {},
     "output_type": "execute_result"
    }
   ],
   "source": [
    "# store the gathered data into a pandas dataframe\n",
    "df = pd.DataFrame(app_review)\n",
    "df"
   ]
  },
  {
   "cell_type": "code",
   "execution_count": 44,
   "id": "44a4b752",
   "metadata": {},
   "outputs": [],
   "source": [
    "df.to_csv('learn-html-pro.csv', index=False)"
   ]
  },
  {
   "cell_type": "markdown",
   "id": "8d168366",
   "metadata": {},
   "source": [
    "### Gather sentiment analysis result"
   ]
  },
  {
   "cell_type": "code",
   "execution_count": null,
   "id": "18b44783",
   "metadata": {},
   "outputs": [],
   "source": []
  },
  {
   "cell_type": "code",
   "execution_count": null,
   "id": "d07deaa4",
   "metadata": {},
   "outputs": [],
   "source": []
  },
  {
   "cell_type": "code",
   "execution_count": null,
   "id": "ec3c19b6",
   "metadata": {},
   "outputs": [],
   "source": []
  }
 ],
 "metadata": {
  "kernelspec": {
   "display_name": "Python 3 (ipykernel)",
   "language": "python",
   "name": "python3"
  },
  "language_info": {
   "codemirror_mode": {
    "name": "ipython",
    "version": 3
   },
   "file_extension": ".py",
   "mimetype": "text/x-python",
   "name": "python",
   "nbconvert_exporter": "python",
   "pygments_lexer": "ipython3",
   "version": "3.9.13"
  }
 },
 "nbformat": 4,
 "nbformat_minor": 5
}
